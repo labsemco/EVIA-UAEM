{
  "cells": [
    {
      "cell_type": "markdown",
      "metadata": {
        "id": "WKlKAi7muXLj"
      },
      "source": [
        "<a href=\"https://colab.research.google.com/github/jhermosillo/Escuela_CD_IMATE_2019/blob/master/Wiki_W2V_all.ipynb\" target=\"_parent\"><img src=\"https://colab.research.google.com/assets/colab-badge.svg\" alt=\"Open In Colab\"/></a>"
      ]
    },
    {
      "cell_type": "markdown",
      "metadata": {
        "id": "DvvxyRi1uXLl"
      },
      "source": [
        "<h3><center>\n",
        "    \n",
        "### **Modelado de texto usando redes neuronales: algoritmo Word2Vec.**\n",
        "#### Aplicación en WikiPedia para medir semejanza entre documentos.\n",
        "    \n",
        "</center></h3>\n",
        "<h5><center>\n",
        "    Dr. Jorge Hermosillo Valadez<br>\n",
        "    Centro de Investigación en Ciencias<br>\n",
        "    Universidad Autónoma del Estado de Morelos<br>\n",
        "</center></h5>\n",
        "</center>\n",
        "<img src=\"https://github.com/labsemco/EVIA-UAEM/blob/main/Representaciones%20Incrustadas/PRACTICA%20PCA-W2V/img/logoCInC.jpg?raw=1\" width=\"100\"/>\n",
        "<img src=\"https://github.com/labsemco/EVIA-UAEM/blob/main/Representaciones%20Incrustadas/PRACTICA%20PCA-W2V/img/uaem.jpg?raw=1\" width=\"100\"/>\n",
        "</center>"
      ]
    },
    {
      "cell_type": "markdown",
      "metadata": {
        "id": "kPVd6aqLuXLm"
      },
      "source": [
        "En este curso veremos cómo:\n",
        "* Los principios básicos de W2V\n",
        "* Cómo construir una matriz de vectores de palabras usando W2V\n",
        "* Cómo modelar documentos\n",
        "* Calcular la semejanza entre dos documentos usando W2V y comparar contra PCA y LSI"
      ]
    },
    {
      "cell_type": "markdown",
      "metadata": {
        "id": "yxMEfXsYuXLm"
      },
      "source": [
        "# Módulos necesarios"
      ]
    },
    {
      "cell_type": "markdown",
      "metadata": {
        "id": "pTTyuriIuXLm"
      },
      "source": [
        "## **Sólo para COLAB**"
      ]
    },
    {
      "cell_type": "code",
      "execution_count": 72,
      "metadata": {
        "id": "ZS7-N9VeuXLn"
      },
      "outputs": [],
      "source": [
        "#\"\"\"\n",
        "#!apt-get install subversion\n",
        "#!svn checkout \"https://github.com/jhermosillo/Escuela_CD_IMATE_2019/trunk/datos/\"\n",
        "#!svn checkout \"https://github.com/jhermosillo/Escuela_CD_IMATE_2019/trunk/modelos/\"\n",
        "#\"\"\""
      ]
    },
    {
      "cell_type": "code",
      "execution_count": 2,
      "metadata": {
        "id": "vQ-LcQPxuXLo"
      },
      "outputs": [],
      "source": [
        "#\"\"\"\n",
        "from pydrive.auth import GoogleAuth\n",
        "from pydrive.drive import GoogleDrive\n",
        "from google.colab import auth\n",
        "from oauth2client.client import GoogleCredentials\n",
        "\n",
        "auth.authenticate_user()\n",
        "gauth = GoogleAuth()\n",
        "gauth.credentials = GoogleCredentials.get_application_default()\n",
        "file_drive = GoogleDrive(gauth)\n",
        "#\"\"\""
      ]
    },
    {
      "cell_type": "markdown",
      "metadata": {
        "id": "hrYG5FOEuXLo"
      },
      "source": [
        "La siguiente instrucción requiere el vínculo al archivo desde DRIVE"
      ]
    },
    {
      "cell_type": "code",
      "execution_count": 3,
      "metadata": {
        "id": "89NUM5zsuXLp"
      },
      "outputs": [],
      "source": [
        "wi = file_drive.CreateFile({'id':'1sV6vK0CLUXpH1VInmtBUBnVACMm5fPFB'})"
      ]
    },
    {
      "cell_type": "code",
      "execution_count": 73,
      "metadata": {
        "id": "HEkG4LuBuXLp"
      },
      "outputs": [],
      "source": [
        "#wi.GetContentFile('/content/wiki.py')"
      ]
    },
    {
      "cell_type": "code",
      "execution_count": 5,
      "metadata": {
        "id": "XGG9oayvuXLp",
        "outputId": "26910ee3-a0ba-4bde-b6a0-d5f89626dac9",
        "colab": {
          "base_uri": "https://localhost:8080/"
        }
      },
      "outputs": [
        {
          "output_type": "stream",
          "name": "stderr",
          "text": [
            "[nltk_data] Downloading package stopwords to /root/nltk_data...\n",
            "[nltk_data]   Package stopwords is already up-to-date!\n"
          ]
        }
      ],
      "source": [
        "import wiki as wi"
      ]
    },
    {
      "cell_type": "code",
      "execution_count": 6,
      "metadata": {
        "id": "dwqYPzDJuXLq",
        "outputId": "6815fbfc-0af7-4c5b-875b-06013dd35aa5",
        "colab": {
          "base_uri": "https://localhost:8080/"
        }
      },
      "outputs": [
        {
          "output_type": "stream",
          "name": "stderr",
          "text": [
            "[nltk_data] Downloading package punkt to /root/nltk_data...\n",
            "[nltk_data]   Package punkt is already up-to-date!\n"
          ]
        }
      ],
      "source": [
        "import numpy as np\n",
        "import glob\n",
        "\n",
        "import nltk\n",
        "nltk.download('punkt')\n",
        "from nltk.tokenize import word_tokenize\n",
        "\n",
        "import pandas as pd\n",
        "\n",
        "import matplotlib.pyplot as plt\n",
        "%matplotlib inline"
      ]
    },
    {
      "cell_type": "code",
      "execution_count": 7,
      "metadata": {
        "id": "VMhDbK89uXLq",
        "outputId": "1fcd30c3-6763-45a4-bd97-49a79d09d23e",
        "colab": {
          "base_uri": "https://localhost:8080/"
        }
      },
      "outputs": [
        {
          "output_type": "stream",
          "name": "stdout",
          "text": [
            "['/content/datos/textosWiki_1']\n"
          ]
        }
      ],
      "source": [
        "archivos = glob.glob('/content/datos/textosWiki_1')\n",
        "print(archivos)"
      ]
    },
    {
      "cell_type": "markdown",
      "metadata": {
        "id": "0eBtvoUmuXLq"
      },
      "source": [
        "Leemos los archivos descargados y sus nombres."
      ]
    },
    {
      "cell_type": "code",
      "execution_count": 8,
      "metadata": {
        "id": "aBMzluiguXLq",
        "outputId": "80f28657-b3d4-4c4e-8006-eb96f318c6d2",
        "colab": {
          "base_uri": "https://localhost:8080/"
        }
      },
      "outputs": [
        {
          "output_type": "stream",
          "name": "stdout",
          "text": [
            "leyendo...\n",
            "/content/datos/textosWiki_1\n",
            "tamaño del contenido de archivos cargados:             12 MB\n"
          ]
        }
      ],
      "source": [
        "file,nombres = wi.carga_datos(archivos)"
      ]
    },
    {
      "cell_type": "markdown",
      "metadata": {
        "id": "LiHp_o1PuXLq"
      },
      "source": [
        "# **Extracción de documentos**"
      ]
    },
    {
      "cell_type": "code",
      "execution_count": 9,
      "metadata": {
        "id": "rBqf4--YuXLq",
        "outputId": "a76dcb4d-05a8-461b-e75f-ddee0ed5ec0f",
        "colab": {
          "base_uri": "https://localhost:8080/"
        }
      },
      "outputs": [
        {
          "output_type": "stream",
          "name": "stdout",
          "text": [
            "archivo /content/datos/textosWiki_1 contiene 4753        documentos \n",
            "\n",
            "Se leyeron 1 archivos\n",
            "1871762 judson donald buechler nacido junio san diego california california unidos jugador profesional ameri\n"
          ]
        }
      ],
      "source": [
        "docs = wi.lee_documentos(file,nombres)\n",
        "print('Se leyeron {} archivos'.format(len(docs)))\n",
        "print(docs[0][0][0],docs[0][0][1][:100])"
      ]
    },
    {
      "cell_type": "markdown",
      "metadata": {
        "id": "b1s_pJLFuXLr"
      },
      "source": [
        "# **Data Frame de documentos**"
      ]
    },
    {
      "cell_type": "code",
      "execution_count": 10,
      "metadata": {
        "id": "hNvsi84yuXLr",
        "outputId": "f3ee7d55-8349-4dd7-e6ce-05beb3d3618d",
        "colab": {
          "base_uri": "https://localhost:8080/",
          "height": 241
        }
      },
      "outputs": [
        {
          "output_type": "stream",
          "name": "stdout",
          "text": [
            "4753 documentos clase 0\n",
            "(4753, 3)\n"
          ]
        },
        {
          "output_type": "execute_result",
          "data": {
            "text/plain": [
              "    doc_id                                              Texto  clase\n",
              "0  1871762  judson donald buechler nacido junio san diego ...      0\n",
              "1  1871768  lost highway the concert dvd recoge concierto ...      0\n",
              "2  1871769  eburones tribu descendencia germánica habitaro...      0\n",
              "3  1871771  aguada baixo portuguesa águeda km² área habita...      0\n",
              "4  1871772  selge griego importante ciudad pisidia ladera ...      0"
            ],
            "text/html": [
              "\n",
              "\n",
              "  <div id=\"df-d65c4926-3ecb-401d-895a-fd0fc4f4ba4f\">\n",
              "    <div class=\"colab-df-container\">\n",
              "      <div>\n",
              "<style scoped>\n",
              "    .dataframe tbody tr th:only-of-type {\n",
              "        vertical-align: middle;\n",
              "    }\n",
              "\n",
              "    .dataframe tbody tr th {\n",
              "        vertical-align: top;\n",
              "    }\n",
              "\n",
              "    .dataframe thead th {\n",
              "        text-align: right;\n",
              "    }\n",
              "</style>\n",
              "<table border=\"1\" class=\"dataframe\">\n",
              "  <thead>\n",
              "    <tr style=\"text-align: right;\">\n",
              "      <th></th>\n",
              "      <th>doc_id</th>\n",
              "      <th>Texto</th>\n",
              "      <th>clase</th>\n",
              "    </tr>\n",
              "  </thead>\n",
              "  <tbody>\n",
              "    <tr>\n",
              "      <th>0</th>\n",
              "      <td>1871762</td>\n",
              "      <td>judson donald buechler nacido junio san diego ...</td>\n",
              "      <td>0</td>\n",
              "    </tr>\n",
              "    <tr>\n",
              "      <th>1</th>\n",
              "      <td>1871768</td>\n",
              "      <td>lost highway the concert dvd recoge concierto ...</td>\n",
              "      <td>0</td>\n",
              "    </tr>\n",
              "    <tr>\n",
              "      <th>2</th>\n",
              "      <td>1871769</td>\n",
              "      <td>eburones tribu descendencia germánica habitaro...</td>\n",
              "      <td>0</td>\n",
              "    </tr>\n",
              "    <tr>\n",
              "      <th>3</th>\n",
              "      <td>1871771</td>\n",
              "      <td>aguada baixo portuguesa águeda km² área habita...</td>\n",
              "      <td>0</td>\n",
              "    </tr>\n",
              "    <tr>\n",
              "      <th>4</th>\n",
              "      <td>1871772</td>\n",
              "      <td>selge griego importante ciudad pisidia ladera ...</td>\n",
              "      <td>0</td>\n",
              "    </tr>\n",
              "  </tbody>\n",
              "</table>\n",
              "</div>\n",
              "      <button class=\"colab-df-convert\" onclick=\"convertToInteractive('df-d65c4926-3ecb-401d-895a-fd0fc4f4ba4f')\"\n",
              "              title=\"Convert this dataframe to an interactive table.\"\n",
              "              style=\"display:none;\">\n",
              "\n",
              "  <svg xmlns=\"http://www.w3.org/2000/svg\" height=\"24px\"viewBox=\"0 0 24 24\"\n",
              "       width=\"24px\">\n",
              "    <path d=\"M0 0h24v24H0V0z\" fill=\"none\"/>\n",
              "    <path d=\"M18.56 5.44l.94 2.06.94-2.06 2.06-.94-2.06-.94-.94-2.06-.94 2.06-2.06.94zm-11 1L8.5 8.5l.94-2.06 2.06-.94-2.06-.94L8.5 2.5l-.94 2.06-2.06.94zm10 10l.94 2.06.94-2.06 2.06-.94-2.06-.94-.94-2.06-.94 2.06-2.06.94z\"/><path d=\"M17.41 7.96l-1.37-1.37c-.4-.4-.92-.59-1.43-.59-.52 0-1.04.2-1.43.59L10.3 9.45l-7.72 7.72c-.78.78-.78 2.05 0 2.83L4 21.41c.39.39.9.59 1.41.59.51 0 1.02-.2 1.41-.59l7.78-7.78 2.81-2.81c.8-.78.8-2.07 0-2.86zM5.41 20L4 18.59l7.72-7.72 1.47 1.35L5.41 20z\"/>\n",
              "  </svg>\n",
              "      </button>\n",
              "\n",
              "\n",
              "\n",
              "    <div id=\"df-921fd7be-b3af-4326-9de1-5c9b393b6d83\">\n",
              "      <button class=\"colab-df-quickchart\" onclick=\"quickchart('df-921fd7be-b3af-4326-9de1-5c9b393b6d83')\"\n",
              "              title=\"Suggest charts.\"\n",
              "              style=\"display:none;\">\n",
              "\n",
              "<svg xmlns=\"http://www.w3.org/2000/svg\" height=\"24px\"viewBox=\"0 0 24 24\"\n",
              "     width=\"24px\">\n",
              "    <g>\n",
              "        <path d=\"M19 3H5c-1.1 0-2 .9-2 2v14c0 1.1.9 2 2 2h14c1.1 0 2-.9 2-2V5c0-1.1-.9-2-2-2zM9 17H7v-7h2v7zm4 0h-2V7h2v10zm4 0h-2v-4h2v4z\"/>\n",
              "    </g>\n",
              "</svg>\n",
              "      </button>\n",
              "    </div>\n",
              "\n",
              "<style>\n",
              "  .colab-df-quickchart {\n",
              "    background-color: #E8F0FE;\n",
              "    border: none;\n",
              "    border-radius: 50%;\n",
              "    cursor: pointer;\n",
              "    display: none;\n",
              "    fill: #1967D2;\n",
              "    height: 32px;\n",
              "    padding: 0 0 0 0;\n",
              "    width: 32px;\n",
              "  }\n",
              "\n",
              "  .colab-df-quickchart:hover {\n",
              "    background-color: #E2EBFA;\n",
              "    box-shadow: 0px 1px 2px rgba(60, 64, 67, 0.3), 0px 1px 3px 1px rgba(60, 64, 67, 0.15);\n",
              "    fill: #174EA6;\n",
              "  }\n",
              "\n",
              "  [theme=dark] .colab-df-quickchart {\n",
              "    background-color: #3B4455;\n",
              "    fill: #D2E3FC;\n",
              "  }\n",
              "\n",
              "  [theme=dark] .colab-df-quickchart:hover {\n",
              "    background-color: #434B5C;\n",
              "    box-shadow: 0px 1px 3px 1px rgba(0, 0, 0, 0.15);\n",
              "    filter: drop-shadow(0px 1px 2px rgba(0, 0, 0, 0.3));\n",
              "    fill: #FFFFFF;\n",
              "  }\n",
              "</style>\n",
              "\n",
              "    <script>\n",
              "      async function quickchart(key) {\n",
              "        const containerElement = document.querySelector('#' + key);\n",
              "        const charts = await google.colab.kernel.invokeFunction(\n",
              "            'suggestCharts', [key], {});\n",
              "      }\n",
              "    </script>\n",
              "\n",
              "      <script>\n",
              "\n",
              "function displayQuickchartButton(domScope) {\n",
              "  let quickchartButtonEl =\n",
              "    domScope.querySelector('#df-921fd7be-b3af-4326-9de1-5c9b393b6d83 button.colab-df-quickchart');\n",
              "  quickchartButtonEl.style.display =\n",
              "    google.colab.kernel.accessAllowed ? 'block' : 'none';\n",
              "}\n",
              "\n",
              "        displayQuickchartButton(document);\n",
              "      </script>\n",
              "      <style>\n",
              "    .colab-df-container {\n",
              "      display:flex;\n",
              "      flex-wrap:wrap;\n",
              "      gap: 12px;\n",
              "    }\n",
              "\n",
              "    .colab-df-convert {\n",
              "      background-color: #E8F0FE;\n",
              "      border: none;\n",
              "      border-radius: 50%;\n",
              "      cursor: pointer;\n",
              "      display: none;\n",
              "      fill: #1967D2;\n",
              "      height: 32px;\n",
              "      padding: 0 0 0 0;\n",
              "      width: 32px;\n",
              "    }\n",
              "\n",
              "    .colab-df-convert:hover {\n",
              "      background-color: #E2EBFA;\n",
              "      box-shadow: 0px 1px 2px rgba(60, 64, 67, 0.3), 0px 1px 3px 1px rgba(60, 64, 67, 0.15);\n",
              "      fill: #174EA6;\n",
              "    }\n",
              "\n",
              "    [theme=dark] .colab-df-convert {\n",
              "      background-color: #3B4455;\n",
              "      fill: #D2E3FC;\n",
              "    }\n",
              "\n",
              "    [theme=dark] .colab-df-convert:hover {\n",
              "      background-color: #434B5C;\n",
              "      box-shadow: 0px 1px 3px 1px rgba(0, 0, 0, 0.15);\n",
              "      filter: drop-shadow(0px 1px 2px rgba(0, 0, 0, 0.3));\n",
              "      fill: #FFFFFF;\n",
              "    }\n",
              "  </style>\n",
              "\n",
              "      <script>\n",
              "        const buttonEl =\n",
              "          document.querySelector('#df-d65c4926-3ecb-401d-895a-fd0fc4f4ba4f button.colab-df-convert');\n",
              "        buttonEl.style.display =\n",
              "          google.colab.kernel.accessAllowed ? 'block' : 'none';\n",
              "\n",
              "        async function convertToInteractive(key) {\n",
              "          const element = document.querySelector('#df-d65c4926-3ecb-401d-895a-fd0fc4f4ba4f');\n",
              "          const dataTable =\n",
              "            await google.colab.kernel.invokeFunction('convertToInteractive',\n",
              "                                                     [key], {});\n",
              "          if (!dataTable) return;\n",
              "\n",
              "          const docLinkHtml = 'Like what you see? Visit the ' +\n",
              "            '<a target=\"_blank\" href=https://colab.research.google.com/notebooks/data_table.ipynb>data table notebook</a>'\n",
              "            + ' to learn more about interactive tables.';\n",
              "          element.innerHTML = '';\n",
              "          dataTable['output_type'] = 'display_data';\n",
              "          await google.colab.output.renderOutput(dataTable, element);\n",
              "          const docLink = document.createElement('div');\n",
              "          docLink.innerHTML = docLinkHtml;\n",
              "          element.appendChild(docLink);\n",
              "        }\n",
              "      </script>\n",
              "    </div>\n",
              "  </div>\n"
            ]
          },
          "metadata": {},
          "execution_count": 10
        }
      ],
      "source": [
        "# df,documentos=wi.get_dataFrame_WiDocs(docs)\n",
        "# print(df.shape)\n",
        "# df.head()\n",
        "\n",
        "df_0 = pd.DataFrame(docs[0],columns = ['doc_id','Texto','clase'])\n",
        "#df_1 = pd.DataFrame(docs[1],columns = ['doc_id','Texto','clase'])\n",
        "print(len(df_0.index),'documentos clase 0')\n",
        "#print(len(df_1.index),'documentos clase 1')\n",
        "df = df_0\n",
        "#df = pd.concat([df_0, df_1], ignore_index=True, sort=False)\n",
        "print(df.shape)\n",
        "df.head()"
      ]
    },
    {
      "cell_type": "markdown",
      "metadata": {
        "id": "2fpKjhSruXLr"
      },
      "source": [
        "# **Modelo Word2Vec**"
      ]
    },
    {
      "cell_type": "markdown",
      "metadata": {
        "id": "stWJAbnquXLr"
      },
      "source": [
        "**Introducción** <br>\n",
        "\n",
        "El modelo Word2Vec (Mikolov et al., 2013) es un algoritmo de representación latente (o embebida) de palabras, que se calcula utilizando una red neuronal.\n",
        "\n",
        "Su origen epistémico está en los modelos estadísticos del lenguaje.\n",
        "\n",
        "$P(w_1,w_2,\\cdots,w_n)=P(w_1)P(w_2|w_1)P(w_3|w_1^2)\\cdots P(w_n|w_1^{n-1})$.\n",
        "\n",
        "Estos modelos, buscan calcular la probabilidad de _n-gramas_: $P(w_1)$ unigramas, $P(w_2|w_1)$ bigramas, $P(w_3|w_1^2)$ trigramas, etc.\n",
        "\n",
        "Los unigramas, son modelos tipo Bolsa-de-Palabras, ya que todas las palabras se consideran _independientes_; los bigramas son modelos donde se busca la probabilidad de una palabra, dado un _contexto_ de una palabra; en los trigramas el contexto es de dos palabras, y así sucesivamente.\n",
        "\n",
        "El uso pionero de redes neuronales para calcular estas probabilidades se debe a Bengio y colegas (Bengio et al., 2003). La hipótesis es que _**los términos que co-ocurren en contextos similares tendrán representaciones similares**_, ya que la red neuronal busca maximizar el valor de probabilidad de co-ocurrencia y ajusta los pesos (representación embebida) de la red para este fin.\n",
        "\n",
        "Sin embargo, la red de Bengio era profunda y muy ineficiente. La aportación de Mikolov y colegas fue optimizar la arquitectura, haciéndola superficial y utilizando trucos de aceleración del cómputo."
      ]
    },
    {
      "cell_type": "markdown",
      "metadata": {
        "id": "11J1zaSHuXLr"
      },
      "source": [
        "**Modelos en word2vec** <br>\n",
        "\n",
        "Word2vec implementa dos tipos de modelos: CBOW (Continuous Bag-of-Words: predicción de una palabra dado un contexto de n palabras) y SKIP-gram (predicción de un contexto de n palabras, dada una palabra).\n",
        "\n",
        "</center>\n",
        "<img src=\"https://github.com/labsemco/EVIA-UAEM/blob/main/Representaciones%20Incrustadas/PRACTICA%20PCA-W2V/img/CBOW.png?raw=1\" width=\"300\"/>\n",
        "</center><em><center>Modelo CBOW de un bigrama</em></center>\n",
        "\n",
        "</center>\n",
        "<img src=\"https://github.com/labsemco/EVIA-UAEM/blob/main/Representaciones%20Incrustadas/PRACTICA%20PCA-W2V/img/SKIP-gram.png?raw=1\" width=\"300\"/>\n",
        "</center><em><center>Modelo SKIP-gram para un contexto de 3 palabras</em></center>"
      ]
    },
    {
      "cell_type": "markdown",
      "metadata": {
        "id": "GlwgZq26uXLr"
      },
      "source": [
        "**Paso hacia adelante (forward propagation) en word2vec** <br>\n",
        "\n",
        "Las palabras del vocabulario se modelan como un vector _one-hot_, donde sola hay un $1$ en la unidad correspondiente a la palabra de entrada.\n",
        "\n",
        "Si el vocabulario es de tamaño $V$, y si la capa oculta ($\\mathbf{h}$) tiene $N$ neuronas, entonces la matriz de pesos que une la entrada a $\\mathbf{h}$, $\\mathbf{W}$, es de tamaño $V\\times N$.\n",
        "\n",
        "Cada fila de $\\mathbf{W}$ es la representación vectorial $\\mathbf{v}_w$ de dimensión $N$ de la palabra $w$. Formalmente, la fila $i$ de $\\mathbf{W}$ es $\\mathbf{v}^{^\\textrm{T}}_w$.\n",
        "\n",
        "Dado un contexto (de una palabra para el modelo CBOW del bigrama), suponiendo $x_k=1$ y $x_k'=0$ para $k'\\neq k$ tenemos:\n",
        "<center>\n",
        "$\\mathbf{h}=\\mathbf{W}^{^\\textrm{T}}\\mathbf{x}=\\mathbf{W}^{^\\textrm{T}}_{(k,\\cdot)}:=\\mathbf{v}^{^\\textrm{T}}_{w_I}$\n",
        "</center>\n",
        "\n",
        "Hacia la salida, hay otra matriz $\\mathbf{W}'$ de tamaño $N\\times V$, por lo que una unidad de salida $j$ (palabra del vocabulario) tendrá un puntaje (score):\n",
        "<center>\n",
        "$u_j=\\mathbf{v}_{w_j}'^{^\\textrm{T}}\\mathbf{h}$\n",
        "</center>\n",
        "donde $\\mathbf{v}_{w_j}'$ es la columna $j$ de la matriz $\\mathbf{W}'$.\n",
        "\n",
        "Para obtener la distribución a posteriori de las palabras del vocabulario, que es una distribución multinomial, podemos usar un modelo de clasificación multiclase log-lineal llamado _softmax_\n",
        "<center>\n",
        "$p(w_j|w_I)=y_j=\\frac{\\exp(u_j)}{\\sum_{j'=1}^{V}\\exp(u_{j'})}$\n",
        "</center>\n",
        "\n",
        "El objetivo es entonces optimizar la expresión anterior mediante el algoritmo de descenso de gradiente, utilizando una función de costo (loss function) de entropía cruzada."
      ]
    },
    {
      "cell_type": "markdown",
      "metadata": {
        "id": "H0pRmg4VuXLs"
      },
      "source": [
        "**Entropía cruzada y cálculo de pesos en word2vec** <br>\n",
        "\n",
        "**Entropía:**<br>\n",
        "\n",
        "Recordemos que podemos medir la cantidad de información de un evento estocástico dada su probabilidad:\n",
        "<center>\n",
        "$I(E)=-\\log[Pr(E)]=−\\log(p)$\n",
        "</center>\n",
        "\n",
        "La entropía es el valor esperado o promedio de la información de un conjunto de eventos estocásticos.\n",
        "\n",
        "El valor esperado de una variable aleatoria se escribe:\n",
        "<center>\n",
        "$E[X]=\\sum_i^nx_ip_i$\n",
        "</center>\n",
        "Por lo que la entropía es:\n",
        "<center>\n",
        "$E[I(X)]=E[-\\log[Pr(I(X))]]=-\\sum_i^np(x_i)\\log p(x_i)$\n",
        "</center>\n",
        "\n",
        "\n",
        "**Entropía cruzada:**<br>\n",
        "\n",
        "Una forma de interpretar la entropía cruzada es verla como (menos) una función de verosimilitud log (log-likelyhood) para datos $y_i'$, bajo un modelo $y_i$.\n",
        "\n",
        "Es decir, supongamos que tenemos algún modelo fijo (también conocido como \"hipótesis\"), que predice para $n$ clases $\\{1,2, \\cdots,n\\}$ sus probabilidades de ocurrencia hipotéticas $y_1, y_2, \\cdots, y_n$. Supongamos que ahora observamos (en realidad) $k_1$ instancias de la clase 1, $k_2$ instancias de la clase 2, $k_n$ instancias de la clase $n$, etc.\n",
        "\n",
        "Según el modelo, la probabilidad de que esto ocurra es (distribución multinomial):\n",
        "<center>\n",
        "$P[datos|modelo]:= y_1^{k_1}\\,y_2^{k_2}\\,\\cdots,y_n^{k_n}$.\n",
        "</center>\n",
        "\n",
        "Tomando el logaritmo y cambiando el signo:\n",
        "<center>\n",
        "$-\\log\\,P[datos|modelo]= -k_1\\log\\,y_1-k_2\\log\\,y_2\\,\\cdots,-k_n\\log\\,y_n=-\\sum_i k_i\\log\\,y_i$.\n",
        "</center>\n",
        "\n",
        "Si ahora dividimos por el número de observaciones $N=k_1+k_2+\\cdots+k_n$, y escribimos las probabilidades empíricas $y_i'=k_i/N$, tenemos la _entropía cruzada_:\n",
        "<center>\n",
        "$-\\frac{1}{N}\\log\\,P[datos|modelo]= -\\frac{1}{N}\\sum_i k_i\\log\\,y_i = \\sum_i y_i'\\log\\,y_i $.\n",
        "</center>\n",
        "\n",
        "En el caso de las redes neuronales, $y_i'$ corresponde con el valor _verdadero_ de la instancia ($\\{0,1\\}$) y $y_i$ es el valor que predice el modelo.\n",
        "\n",
        "\n",
        "</center>\n",
        "<img src=\"https://github.com/labsemco/EVIA-UAEM/blob/main/Representaciones%20Incrustadas/PRACTICA%20PCA-W2V/img/softmax.png?raw=1\" width=\"450\"/>\n",
        "</center><em><center>Resumen del modelo CBOW - Forward pass</em></center>"
      ]
    },
    {
      "cell_type": "markdown",
      "metadata": {
        "id": "zYjbVsoTuXLs"
      },
      "source": [
        "**Funciones de costo en word2vec**(Rong, 2014)<br>\n",
        "\n",
        "En word2vec queremos maximizar:\n",
        "<center>\n",
        "$p(w_O|w_I)=y_{j*}=\\frac{\\exp(u_{j*})}{\\sum_{j'=1}^{V}\\exp(u_{j'})}$\n",
        "</center>\n",
        "donde $j*$ es el índice de la palabra que debe estar a la salida. Este es el índice que se compara contra la salida de la red cuando se entrena.\n",
        "\n",
        "**CBOW:**<br>\n",
        "<center>\n",
        "$E=-\\log p(w_O|w_I)=-u_{j*}+\\log\\sum_{j'=1}^{V}\\exp(u_{j'})$\n",
        "</center>\n",
        "<center>\n",
        "$E=-\\mathbf{v}_{w_O}'^{^\\textrm{T}}\\cdot\\mathbf{h}+\\log\\sum_{j'=1}^{V}\\exp(\\mathbf{v}_{w_j}'^{^\\textrm{T}}\\cdot\\mathbf{h})$\n",
        "</center>\n",
        "\n",
        "\n",
        "En el caso en que haya $C$ palabras de entrada (e.g. trigramas o más) la expresión de arriba es la misma, solo cambia $\\mathbf{h}$ que en este caso es:\n",
        "<center>\n",
        "$\\mathbf{h}=\\frac{1}{C}\\mathbf{W}^{^\\textrm{T}}(\\mathbf{x}_1+\\mathbf{x}_2+\\cdots+\\mathbf{x}_C)$\n",
        "</center>\n",
        "\n",
        "**SKIP-gram**<br>\n",
        "Para este caso, en lugar de tener una sola distribución multinomial, tenemos $C$ distribuciones, donde $C$ es el número de palabras del contexto.\n",
        "<center>\n",
        "$E=-\\log p(w_{O,1},w_{O,2},\\cdots,w_{O,C}|w_I)=-\\log\\,\\prod_{c=1}^C\\frac{\\exp(u_{c,j*})}{\\sum_{j'=1}^{V}\\exp(u_{j'})}=\n",
        "-\\sum_{c=1}^{C}u_{j*_c}+C\\cdot\\log\\sum_{j'=1}^{V}\\exp(u_{j'})$\n",
        "</center>\n",
        "\n",
        "\n",
        "De esta forma, se puede aplicar el algoritmo de Back-Propagation, donde se calcula el gradiente de las funciones de costo con respecto a las entradas, según el caso y según la capa correspondiente."
      ]
    },
    {
      "cell_type": "markdown",
      "metadata": {
        "id": "325gebwKuXLs"
      },
      "source": [
        "## **Gensim**"
      ]
    },
    {
      "cell_type": "markdown",
      "metadata": {
        "id": "CTbZ-e-buXLs"
      },
      "source": [
        "Vamos a utilizar las librerías y módulos de [gensim](https://radimrehurek.com/gensim/) para [word2vec](https://radimrehurek.com/gensim/models/word2vec.html#gensim.models.word2vec.Word2Vec), que tienen una amplia gama de soluciones en Python para procesamiento de la [Wikipedia](https://radimrehurek.com/gensim/scripts/segment_wiki.html), y el Procesamiento de Lenguaje Natural en general."
      ]
    },
    {
      "cell_type": "code",
      "execution_count": 11,
      "metadata": {
        "id": "TkEoNkECuXLs",
        "outputId": "97dadbab-6cc7-435d-ea3e-0630ae5833d6",
        "colab": {
          "base_uri": "https://localhost:8080/"
        }
      },
      "outputs": [
        {
          "output_type": "stream",
          "name": "stdout",
          "text": [
            "Hay 4753 documentos y 103132 palabras únicas\n"
          ]
        }
      ],
      "source": [
        "types=df['Texto'].str.split(' ',expand=True).stack().unique()\n",
        "Textos=df.Texto.values\n",
        "\n",
        "#Creamos las oraciones, este será la entrada del modelo W2V\n",
        "frases = [s.split() for s in Textos]\n",
        "\n",
        "documentos= []\n",
        "\n",
        "#Concatenamos todas las oraciones en una sola lista\n",
        "for f in frases:\n",
        "    documentos.append(f)\n",
        "\n",
        "print('Hay {} documentos y {} palabras únicas'.\\\n",
        "      format(len(documentos),len(types)))"
      ]
    },
    {
      "cell_type": "code",
      "source": [
        "types"
      ],
      "metadata": {
        "id": "vYv8Gjby3AyL",
        "outputId": "13d99c1a-85e6-4d60-dacd-b9516635aaaa",
        "colab": {
          "base_uri": "https://localhost:8080/"
        }
      },
      "execution_count": 12,
      "outputs": [
        {
          "output_type": "execute_result",
          "data": {
            "text/plain": [
              "array(['judson', 'donald', 'buechler', ..., 'objetivas', 'predecible',\n",
              "       'objetividad'], dtype=object)"
            ]
          },
          "metadata": {},
          "execution_count": 12
        }
      ]
    },
    {
      "cell_type": "code",
      "execution_count": 13,
      "metadata": {
        "id": "863t10wXuXLs"
      },
      "outputs": [],
      "source": [
        "from gensim.models import Word2Vec\n",
        "\n",
        "vec_dim= 300\n",
        "W2V = Word2Vec(documentos, min_count=1, workers=4, window=5,vector_size=vec_dim)"
      ]
    },
    {
      "cell_type": "code",
      "source": [
        "W2V.wv.most_similar(positive=['king'])"
      ],
      "metadata": {
        "id": "rk6_ibZi1UZP",
        "outputId": "89d94108-4c70-4140-97b3-fa09496d1b2c",
        "colab": {
          "base_uri": "https://localhost:8080/"
        }
      },
      "execution_count": 14,
      "outputs": [
        {
          "output_type": "execute_result",
          "data": {
            "text/plain": [
              "[('green', 0.9991195201873779),\n",
              " ('flying', 0.998760998249054),\n",
              " ('four', 0.9986445307731628),\n",
              " ('shadow', 0.998325526714325),\n",
              " ('knuckles', 0.9982584714889526),\n",
              " ('baby', 0.9981348514556885),\n",
              " ('under', 0.9980950951576233),\n",
              " ('death', 0.9980295896530151),\n",
              " ('cold', 0.997997522354126),\n",
              " ('great', 0.997949481010437)]"
            ]
          },
          "metadata": {},
          "execution_count": 14
        }
      ]
    },
    {
      "cell_type": "code",
      "source": [
        "'woman' in W2V.wv"
      ],
      "metadata": {
        "id": "YJdFifFS28qm",
        "outputId": "6aaed67a-f06b-41aa-b5ea-d15955c0046f",
        "colab": {
          "base_uri": "https://localhost:8080/"
        }
      },
      "execution_count": 15,
      "outputs": [
        {
          "output_type": "execute_result",
          "data": {
            "text/plain": [
              "True"
            ]
          },
          "metadata": {},
          "execution_count": 15
        }
      ]
    },
    {
      "cell_type": "code",
      "execution_count": 16,
      "metadata": {
        "id": "6hfrMSgruXLs",
        "outputId": "20bac660-b291-45e2-e82c-ce580e70582e",
        "colab": {
          "base_uri": "https://localhost:8080/"
        }
      },
      "outputs": [
        {
          "output_type": "stream",
          "name": "stdout",
          "text": [
            "(300,)\n"
          ]
        }
      ],
      "source": [
        "print(W2V.wv.get_vector(\"comenzó\").shape)"
      ]
    },
    {
      "cell_type": "code",
      "source": [
        "print(W2V.wv.get_vector(\"comenzó\"))"
      ],
      "metadata": {
        "id": "BP7tkDOI3JM7",
        "outputId": "a249045e-abce-43b6-bd91-cb98a0092fac",
        "colab": {
          "base_uri": "https://localhost:8080/"
        }
      },
      "execution_count": 17,
      "outputs": [
        {
          "output_type": "stream",
          "name": "stdout",
          "text": [
            "[ 0.01228738  0.3824977   0.03270586  0.47389418  0.34326208 -0.71346456\n",
            "  0.31852838  1.3947033   0.34534714  0.07081071 -0.1562361  -0.35015947\n",
            "  0.3544913   0.16506435 -0.512829   -0.7580749   0.22754306 -0.05982836\n",
            "  0.45530358  0.15304732 -0.3671853   0.00943659  0.7135768   0.10286436\n",
            "  1.0652542   0.07315345 -0.949284    0.21492815 -0.0568531  -0.8342782\n",
            "  0.23388651  0.02332111 -0.28855765  0.20477012 -0.38987118  0.04122688\n",
            "  0.29319417 -0.5785292  -0.10725124 -0.1848649  -0.23005615  0.18019965\n",
            "  0.00391605 -0.79716325 -0.08007833  0.5932547   0.19405288  0.24995962\n",
            " -0.29936045  0.90251786  0.0704828  -0.11552726 -0.6919495  -0.14700218\n",
            " -0.36767054  0.5458533   0.29770347  0.35432363  0.5616696   0.14043397\n",
            " -0.30041733 -0.10308884 -0.11268195  0.4221298  -0.05272498 -0.06463639\n",
            " -0.15207121  0.12444804 -0.5647337  -0.206906    0.21068898  0.53182876\n",
            "  0.7012036  -0.32696798 -0.01331776 -0.1012776  -0.84825546  0.31833673\n",
            " -0.43029943  0.34368554 -0.28926754 -1.0894715   0.29380682  0.8670332\n",
            "  0.15690553 -0.17651851 -0.16640414  0.02716703  0.3953644   0.09189215\n",
            "  0.49876794 -0.8300523   0.46407652  0.19288115  0.5669035   0.479979\n",
            "  0.61481535 -0.3354317  -0.5214853   0.46595827  0.2671114  -0.30549484\n",
            "  0.7910214  -0.23605727  0.2876517  -0.451058   -0.22946872  0.45447\n",
            " -0.63318294 -0.3183885  -0.58209556 -0.52132416 -0.13910715  0.57580984\n",
            "  0.59499097  0.7496445  -0.15418509 -0.14737533  0.5424933  -0.6871328\n",
            "  0.15744834  0.08855417  0.61810076 -0.2738974  -0.3633968   0.30379185\n",
            " -0.02939948 -0.08043297 -0.28149366  0.63763225 -0.2615382   0.7786123\n",
            "  0.24874395 -1.0739719   0.6373098   0.05659975 -0.16020842 -0.46324715\n",
            " -0.78479487 -0.71966815  0.40789574 -0.7119152  -0.461927    0.55405176\n",
            "  0.7944479  -0.3653217  -0.9979554  -0.10413615  0.5052261  -0.13521959\n",
            "  0.01089329 -1.0304621  -0.48023325 -0.4673053   0.23378901  0.34486073\n",
            " -0.6572396  -0.16047351  0.2431235   0.75079656 -0.02864181  0.36268675\n",
            " -0.7156483   0.9848974  -0.35880435  0.53090006  0.02765091 -0.34958702\n",
            "  0.03013789  1.2071416  -0.29995775  0.30759206  0.6615704  -0.02596538\n",
            " -0.552083   -0.08594908  0.09960775 -0.63318086 -0.61838347 -0.16752744\n",
            " -0.644503    0.19740891 -0.38467133 -0.4989075   0.16397205  0.12017029\n",
            "  0.73842067  0.71047616  0.6227806  -0.6163968  -0.34336072 -0.21052447\n",
            " -0.7216955  -0.15127628  0.25076842 -0.6114195   0.07443021 -0.58432144\n",
            "  0.18586133 -0.0097237  -0.23232467  0.45698863 -0.24847275 -0.32606426\n",
            " -0.06610938 -0.16191198  0.03902753 -0.08946446 -0.14510237 -0.03974206\n",
            "  0.26015598 -0.45403507 -0.38538066 -0.29476032  0.73758155 -0.949634\n",
            " -0.20442553 -0.69045615 -1.1922244  -0.6630739   0.6154259   0.37012902\n",
            " -0.08512378 -0.69376105 -0.26495683 -1.0722259   0.3124464  -0.13517289\n",
            " -0.6839015   0.36277553  0.5585728  -0.5911111  -0.63351893  0.24838515\n",
            " -0.3971518   0.21368212 -0.11690766  0.992256   -0.07357349 -1.4040638\n",
            "  0.2631729  -0.44198418 -0.41856143  0.05833074  0.03733913 -0.9193763\n",
            " -0.2271121   0.4834815   0.14135127  0.5469812   0.19779125  0.40199438\n",
            "  0.31399    -0.25997394 -0.632883   -0.47585025  1.0497454   0.5597947\n",
            " -0.7630417  -0.51536906  0.39361095  0.36155105  0.05305981 -0.67821854\n",
            " -0.6228165   0.42915747  0.2494524   0.5210373  -0.45549023  0.0708698\n",
            " -0.36254767  0.08883823 -0.01555396 -0.19653973  0.5808548   0.10798361\n",
            "  0.6942183   0.26073733 -0.26624814  0.13592798  0.41734135 -0.04742161\n",
            "  0.01694355  0.17195363  0.18630996 -0.20470825 -0.7875432   0.40393722\n",
            "  0.3482095   1.258969    0.01784158  1.0010852   0.4991242   0.16129869\n",
            "  0.6521444   0.9268062   0.49354753 -0.3525547   0.72598034  0.09450106]\n"
          ]
        }
      ]
    },
    {
      "cell_type": "code",
      "source": [
        "W2V.wv.similarity('comenzó','king')"
      ],
      "metadata": {
        "id": "X87UIgEb3UvG",
        "outputId": "5b9838c9-ca03-4907-84d9-e87a472eea67",
        "colab": {
          "base_uri": "https://localhost:8080/"
        }
      },
      "execution_count": 87,
      "outputs": [
        {
          "output_type": "execute_result",
          "data": {
            "text/plain": [
              "0.84070367"
            ]
          },
          "metadata": {},
          "execution_count": 87
        }
      ]
    },
    {
      "cell_type": "code",
      "source": [
        "W2V.wv.n_similarity('cell','blood')"
      ],
      "metadata": {
        "id": "tHhOnpt13Q52",
        "outputId": "ed48525d-03c4-41ee-85c1-4ca9b1dc7a44",
        "colab": {
          "base_uri": "https://localhost:8080/"
        }
      },
      "execution_count": 18,
      "outputs": [
        {
          "output_type": "execute_result",
          "data": {
            "text/plain": [
              "0.0"
            ]
          },
          "metadata": {},
          "execution_count": 18
        }
      ]
    },
    {
      "cell_type": "code",
      "source": [
        "W2V.wv.similarity('france', 'spain')"
      ],
      "metadata": {
        "id": "sTJbjtI1070O",
        "outputId": "4d27f1f6-2f84-4846-a832-667c9b130524",
        "colab": {
          "base_uri": "https://localhost:8080/"
        }
      },
      "execution_count": 19,
      "outputs": [
        {
          "output_type": "execute_result",
          "data": {
            "text/plain": [
              "0.99095196"
            ]
          },
          "metadata": {},
          "execution_count": 19
        }
      ]
    },
    {
      "cell_type": "markdown",
      "metadata": {
        "id": "JX2PK6lkuXLt"
      },
      "source": [
        "Podemos guardar el modelo"
      ]
    },
    {
      "cell_type": "code",
      "execution_count": 20,
      "metadata": {
        "id": "HPxQG4A5uXLt"
      },
      "outputs": [],
      "source": [
        "W2V.save('/content/datos/word2vec.model')"
      ]
    },
    {
      "cell_type": "markdown",
      "metadata": {
        "id": "8_-5ipaAuXLt"
      },
      "source": [
        "o leer el modelo"
      ]
    },
    {
      "cell_type": "code",
      "execution_count": 21,
      "metadata": {
        "id": "SnaAWubcuXLt"
      },
      "outputs": [],
      "source": [
        "W2V= Word2Vec.load('datos/word2vec.model')"
      ]
    },
    {
      "cell_type": "code",
      "execution_count": 22,
      "metadata": {
        "id": "OzaeGwsMuXLt",
        "outputId": "bac89187-3d7d-4f0a-da5b-6a39eb6f3d95",
        "colab": {
          "base_uri": "https://localhost:8080/"
        }
      },
      "outputs": [
        {
          "output_type": "stream",
          "name": "stdout",
          "text": [
            "[ 0.01228738  0.3824977   0.03270586  0.47389418  0.34326208 -0.71346456\n",
            "  0.31852838  1.3947033   0.34534714  0.07081071]\n"
          ]
        }
      ],
      "source": [
        "print(W2V.wv.get_vector(\"comenzó\")[:10])"
      ]
    },
    {
      "cell_type": "markdown",
      "metadata": {
        "id": "DLmmFGEquXLt"
      },
      "source": [
        "### Modelación de documentos"
      ]
    },
    {
      "cell_type": "code",
      "execution_count": 23,
      "metadata": {
        "id": "v_cMEKakuXLt"
      },
      "outputs": [],
      "source": [
        "from collections import Counter, OrderedDict\n",
        "\n",
        "def modela_documentos_rep(df):\n",
        "    id_=df.doc_id.values\n",
        "    datos=df.drop(columns=['doc_id'])\n",
        "    datos=datos.values\n",
        "    dx=[]\n",
        "    for i,doc_id in enumerate(id_):\n",
        "        dx.append((doc_id,datos[i]))\n",
        "    do=pd.DataFrame(dx,columns=['doc_id','Vectores'])\n",
        "    return do\n",
        "\n",
        "def modela_documentos(df,w2v):\n",
        "    docs=df.doc_id.values\n",
        "    textos=df.Texto.str.split(' ').values.tolist()\n",
        "    d=[]\n",
        "    Dx=[]\n",
        "    for i,texto in enumerate(textos):\n",
        "        for w in texto:\n",
        "            e=w2v.wv.get_vector(w)\n",
        "            d.append(e)\n",
        "        d=np.array(d)\n",
        "        dx=np.sum(d,axis=0)/len(d)\n",
        "        Dx.append([docs[i],dx])\n",
        "        d=[]\n",
        "    do=pd.DataFrame(Dx,columns=['doc_id','W2V'])\n",
        "    return do\n",
        "\n",
        "def k_vecinos_mas_cercanos(docus,df,k=1):\n",
        "    l=docus.doc_id.values\n",
        "    vec=OrderedDict()\n",
        "    for id_ in l:\n",
        "        d=dist_vecinos(id_,df)\n",
        "        for i in range(k):\n",
        "            if i==0:\n",
        "                vec[id_]=[[d[i][1],d[i][2]]]\n",
        "            else:\n",
        "                vec[id_].append([d[i][1],d[i][2]])\n",
        "    return vec\n",
        "\n",
        "def vecinos_mas_cercanos(df,distancias):\n",
        "    l=df.doc_id.values\n",
        "    vec=OrderedDict()\n",
        "    for id_ in l:\n",
        "        for i,d in enumerate(distancias):\n",
        "            if id_ == d[0]:\n",
        "                vecino=d[1]\n",
        "                if id_ not in vec.keys():\n",
        "                    vec[id_]=[(vecino,d[2])]\n",
        "                else:\n",
        "                    vec[id_].append((vecino,d[2]))\n",
        "            elif id_== d[1]:\n",
        "                vecino=d[0]\n",
        "                if id_ not in vec.keys():\n",
        "                    vec[id_]=[(vecino,d[2])]\n",
        "                else:\n",
        "                    vec[id_].append((vecino,d[2]))\n",
        "    return vec\n",
        "\n",
        "def dist_vecinos(id_docu,df):\n",
        "    dist=[]\n",
        "    candidato = df[df['doc_id']==id_docu]\n",
        "    candidato = candidato.iloc[:,1].values[0]\n",
        "    fila=df.index[df['doc_id'] == id_docu].tolist()\n",
        "    pts=df.drop(df.index[fila])\n",
        "    id_=pts.doc_id.values\n",
        "    pts=pts.iloc[:,1].values\n",
        "\n",
        "    for i in range(len(pts)):\n",
        "        d = np.sqrt(np.sum(np.square(candidato-pts[i])))\n",
        "        dist.append((id_docu,id_[i],d))\n",
        "    dist=sorted(dist,key=lambda x: x[2])\n",
        "    return dist"
      ]
    },
    {
      "cell_type": "code",
      "execution_count": 25,
      "metadata": {
        "id": "FVOuwXzcuXLt"
      },
      "outputs": [],
      "source": [
        "edf=modela_documentos(df,W2V)"
      ]
    },
    {
      "cell_type": "code",
      "source": [
        "edf"
      ],
      "metadata": {
        "id": "mRI7jGlQ02t3",
        "outputId": "21978a1c-2a81-4bc7-e4da-5f95c7db5ab0",
        "colab": {
          "base_uri": "https://localhost:8080/",
          "height": 424
        }
      },
      "execution_count": 26,
      "outputs": [
        {
          "output_type": "execute_result",
          "data": {
            "text/plain": [
              "       doc_id                                                W2V\n",
              "0     1871762  [0.05312481, 0.27928448, -0.00829353, 0.216115...\n",
              "1     1871768  [0.060354814, 0.062855065, -0.035277653, 0.195...\n",
              "2     1871769  [0.05674599, 0.37336588, 0.10227266, 0.1578277...\n",
              "3     1871771  [0.061872404, 0.3120935, 0.12171685, 0.0720200...\n",
              "4     1871772  [0.075020246, 0.34566778, 0.098314576, 0.17376...\n",
              "...       ...                                                ...\n",
              "4748  1901352  [0.019310001, 0.30261073, 0.09534559, 0.243563...\n",
              "4749  1901386  [0.03296497, 0.018254148, -0.01881177, 0.11284...\n",
              "4750  1901403  [0.053353794, 0.16057909, 0.02053474, 0.119363...\n",
              "4751  1901405  [0.05230933, 0.12204648, 0.0060931835, 0.09307...\n",
              "4752  1901410  [0.03549256, 0.28379446, 0.09174235, 0.1877143...\n",
              "\n",
              "[4753 rows x 2 columns]"
            ],
            "text/html": [
              "\n",
              "\n",
              "  <div id=\"df-9963e006-8801-4ed4-8051-8aefbcb1c595\">\n",
              "    <div class=\"colab-df-container\">\n",
              "      <div>\n",
              "<style scoped>\n",
              "    .dataframe tbody tr th:only-of-type {\n",
              "        vertical-align: middle;\n",
              "    }\n",
              "\n",
              "    .dataframe tbody tr th {\n",
              "        vertical-align: top;\n",
              "    }\n",
              "\n",
              "    .dataframe thead th {\n",
              "        text-align: right;\n",
              "    }\n",
              "</style>\n",
              "<table border=\"1\" class=\"dataframe\">\n",
              "  <thead>\n",
              "    <tr style=\"text-align: right;\">\n",
              "      <th></th>\n",
              "      <th>doc_id</th>\n",
              "      <th>W2V</th>\n",
              "    </tr>\n",
              "  </thead>\n",
              "  <tbody>\n",
              "    <tr>\n",
              "      <th>0</th>\n",
              "      <td>1871762</td>\n",
              "      <td>[0.05312481, 0.27928448, -0.00829353, 0.216115...</td>\n",
              "    </tr>\n",
              "    <tr>\n",
              "      <th>1</th>\n",
              "      <td>1871768</td>\n",
              "      <td>[0.060354814, 0.062855065, -0.035277653, 0.195...</td>\n",
              "    </tr>\n",
              "    <tr>\n",
              "      <th>2</th>\n",
              "      <td>1871769</td>\n",
              "      <td>[0.05674599, 0.37336588, 0.10227266, 0.1578277...</td>\n",
              "    </tr>\n",
              "    <tr>\n",
              "      <th>3</th>\n",
              "      <td>1871771</td>\n",
              "      <td>[0.061872404, 0.3120935, 0.12171685, 0.0720200...</td>\n",
              "    </tr>\n",
              "    <tr>\n",
              "      <th>4</th>\n",
              "      <td>1871772</td>\n",
              "      <td>[0.075020246, 0.34566778, 0.098314576, 0.17376...</td>\n",
              "    </tr>\n",
              "    <tr>\n",
              "      <th>...</th>\n",
              "      <td>...</td>\n",
              "      <td>...</td>\n",
              "    </tr>\n",
              "    <tr>\n",
              "      <th>4748</th>\n",
              "      <td>1901352</td>\n",
              "      <td>[0.019310001, 0.30261073, 0.09534559, 0.243563...</td>\n",
              "    </tr>\n",
              "    <tr>\n",
              "      <th>4749</th>\n",
              "      <td>1901386</td>\n",
              "      <td>[0.03296497, 0.018254148, -0.01881177, 0.11284...</td>\n",
              "    </tr>\n",
              "    <tr>\n",
              "      <th>4750</th>\n",
              "      <td>1901403</td>\n",
              "      <td>[0.053353794, 0.16057909, 0.02053474, 0.119363...</td>\n",
              "    </tr>\n",
              "    <tr>\n",
              "      <th>4751</th>\n",
              "      <td>1901405</td>\n",
              "      <td>[0.05230933, 0.12204648, 0.0060931835, 0.09307...</td>\n",
              "    </tr>\n",
              "    <tr>\n",
              "      <th>4752</th>\n",
              "      <td>1901410</td>\n",
              "      <td>[0.03549256, 0.28379446, 0.09174235, 0.1877143...</td>\n",
              "    </tr>\n",
              "  </tbody>\n",
              "</table>\n",
              "<p>4753 rows × 2 columns</p>\n",
              "</div>\n",
              "      <button class=\"colab-df-convert\" onclick=\"convertToInteractive('df-9963e006-8801-4ed4-8051-8aefbcb1c595')\"\n",
              "              title=\"Convert this dataframe to an interactive table.\"\n",
              "              style=\"display:none;\">\n",
              "\n",
              "  <svg xmlns=\"http://www.w3.org/2000/svg\" height=\"24px\"viewBox=\"0 0 24 24\"\n",
              "       width=\"24px\">\n",
              "    <path d=\"M0 0h24v24H0V0z\" fill=\"none\"/>\n",
              "    <path d=\"M18.56 5.44l.94 2.06.94-2.06 2.06-.94-2.06-.94-.94-2.06-.94 2.06-2.06.94zm-11 1L8.5 8.5l.94-2.06 2.06-.94-2.06-.94L8.5 2.5l-.94 2.06-2.06.94zm10 10l.94 2.06.94-2.06 2.06-.94-2.06-.94-.94-2.06-.94 2.06-2.06.94z\"/><path d=\"M17.41 7.96l-1.37-1.37c-.4-.4-.92-.59-1.43-.59-.52 0-1.04.2-1.43.59L10.3 9.45l-7.72 7.72c-.78.78-.78 2.05 0 2.83L4 21.41c.39.39.9.59 1.41.59.51 0 1.02-.2 1.41-.59l7.78-7.78 2.81-2.81c.8-.78.8-2.07 0-2.86zM5.41 20L4 18.59l7.72-7.72 1.47 1.35L5.41 20z\"/>\n",
              "  </svg>\n",
              "      </button>\n",
              "\n",
              "\n",
              "\n",
              "    <div id=\"df-966f5e73-14c2-4b63-b547-d4dee9d84f38\">\n",
              "      <button class=\"colab-df-quickchart\" onclick=\"quickchart('df-966f5e73-14c2-4b63-b547-d4dee9d84f38')\"\n",
              "              title=\"Suggest charts.\"\n",
              "              style=\"display:none;\">\n",
              "\n",
              "<svg xmlns=\"http://www.w3.org/2000/svg\" height=\"24px\"viewBox=\"0 0 24 24\"\n",
              "     width=\"24px\">\n",
              "    <g>\n",
              "        <path d=\"M19 3H5c-1.1 0-2 .9-2 2v14c0 1.1.9 2 2 2h14c1.1 0 2-.9 2-2V5c0-1.1-.9-2-2-2zM9 17H7v-7h2v7zm4 0h-2V7h2v10zm4 0h-2v-4h2v4z\"/>\n",
              "    </g>\n",
              "</svg>\n",
              "      </button>\n",
              "    </div>\n",
              "\n",
              "<style>\n",
              "  .colab-df-quickchart {\n",
              "    background-color: #E8F0FE;\n",
              "    border: none;\n",
              "    border-radius: 50%;\n",
              "    cursor: pointer;\n",
              "    display: none;\n",
              "    fill: #1967D2;\n",
              "    height: 32px;\n",
              "    padding: 0 0 0 0;\n",
              "    width: 32px;\n",
              "  }\n",
              "\n",
              "  .colab-df-quickchart:hover {\n",
              "    background-color: #E2EBFA;\n",
              "    box-shadow: 0px 1px 2px rgba(60, 64, 67, 0.3), 0px 1px 3px 1px rgba(60, 64, 67, 0.15);\n",
              "    fill: #174EA6;\n",
              "  }\n",
              "\n",
              "  [theme=dark] .colab-df-quickchart {\n",
              "    background-color: #3B4455;\n",
              "    fill: #D2E3FC;\n",
              "  }\n",
              "\n",
              "  [theme=dark] .colab-df-quickchart:hover {\n",
              "    background-color: #434B5C;\n",
              "    box-shadow: 0px 1px 3px 1px rgba(0, 0, 0, 0.15);\n",
              "    filter: drop-shadow(0px 1px 2px rgba(0, 0, 0, 0.3));\n",
              "    fill: #FFFFFF;\n",
              "  }\n",
              "</style>\n",
              "\n",
              "    <script>\n",
              "      async function quickchart(key) {\n",
              "        const containerElement = document.querySelector('#' + key);\n",
              "        const charts = await google.colab.kernel.invokeFunction(\n",
              "            'suggestCharts', [key], {});\n",
              "      }\n",
              "    </script>\n",
              "\n",
              "      <script>\n",
              "\n",
              "function displayQuickchartButton(domScope) {\n",
              "  let quickchartButtonEl =\n",
              "    domScope.querySelector('#df-966f5e73-14c2-4b63-b547-d4dee9d84f38 button.colab-df-quickchart');\n",
              "  quickchartButtonEl.style.display =\n",
              "    google.colab.kernel.accessAllowed ? 'block' : 'none';\n",
              "}\n",
              "\n",
              "        displayQuickchartButton(document);\n",
              "      </script>\n",
              "      <style>\n",
              "    .colab-df-container {\n",
              "      display:flex;\n",
              "      flex-wrap:wrap;\n",
              "      gap: 12px;\n",
              "    }\n",
              "\n",
              "    .colab-df-convert {\n",
              "      background-color: #E8F0FE;\n",
              "      border: none;\n",
              "      border-radius: 50%;\n",
              "      cursor: pointer;\n",
              "      display: none;\n",
              "      fill: #1967D2;\n",
              "      height: 32px;\n",
              "      padding: 0 0 0 0;\n",
              "      width: 32px;\n",
              "    }\n",
              "\n",
              "    .colab-df-convert:hover {\n",
              "      background-color: #E2EBFA;\n",
              "      box-shadow: 0px 1px 2px rgba(60, 64, 67, 0.3), 0px 1px 3px 1px rgba(60, 64, 67, 0.15);\n",
              "      fill: #174EA6;\n",
              "    }\n",
              "\n",
              "    [theme=dark] .colab-df-convert {\n",
              "      background-color: #3B4455;\n",
              "      fill: #D2E3FC;\n",
              "    }\n",
              "\n",
              "    [theme=dark] .colab-df-convert:hover {\n",
              "      background-color: #434B5C;\n",
              "      box-shadow: 0px 1px 3px 1px rgba(0, 0, 0, 0.15);\n",
              "      filter: drop-shadow(0px 1px 2px rgba(0, 0, 0, 0.3));\n",
              "      fill: #FFFFFF;\n",
              "    }\n",
              "  </style>\n",
              "\n",
              "      <script>\n",
              "        const buttonEl =\n",
              "          document.querySelector('#df-9963e006-8801-4ed4-8051-8aefbcb1c595 button.colab-df-convert');\n",
              "        buttonEl.style.display =\n",
              "          google.colab.kernel.accessAllowed ? 'block' : 'none';\n",
              "\n",
              "        async function convertToInteractive(key) {\n",
              "          const element = document.querySelector('#df-9963e006-8801-4ed4-8051-8aefbcb1c595');\n",
              "          const dataTable =\n",
              "            await google.colab.kernel.invokeFunction('convertToInteractive',\n",
              "                                                     [key], {});\n",
              "          if (!dataTable) return;\n",
              "\n",
              "          const docLinkHtml = 'Like what you see? Visit the ' +\n",
              "            '<a target=\"_blank\" href=https://colab.research.google.com/notebooks/data_table.ipynb>data table notebook</a>'\n",
              "            + ' to learn more about interactive tables.';\n",
              "          element.innerHTML = '';\n",
              "          dataTable['output_type'] = 'display_data';\n",
              "          await google.colab.output.renderOutput(dataTable, element);\n",
              "          const docLink = document.createElement('div');\n",
              "          docLink.innerHTML = docLinkHtml;\n",
              "          element.appendChild(docLink);\n",
              "        }\n",
              "      </script>\n",
              "    </div>\n",
              "  </div>\n"
            ]
          },
          "metadata": {},
          "execution_count": 26
        }
      ]
    },
    {
      "cell_type": "markdown",
      "metadata": {
        "id": "VEIUk7UquXLu"
      },
      "source": [
        "## **Ejercicio 1**\n",
        "\n",
        "Queremos saber que tan bien podemos modelar documentos utilizando Word2Vec.\n",
        "\n",
        "Compara estos resultados con los obtenidos por les métodos PCA y LSA."
      ]
    },
    {
      "cell_type": "markdown",
      "metadata": {
        "id": "Flgb3YpzuXLx"
      },
      "source": [
        "### Documentos de análisis"
      ]
    },
    {
      "cell_type": "code",
      "execution_count": 27,
      "metadata": {
        "id": "kD6fAPfquXLx",
        "outputId": "ac2efc32-4973-4807-b7ad-7caf7751227e",
        "colab": {
          "base_uri": "https://localhost:8080/",
          "height": 206
        }
      },
      "outputs": [
        {
          "output_type": "execute_result",
          "data": {
            "text/plain": [
              "    doc_id                                              Texto  clase\n",
              "0  1879679  marion jones farquhar noviembre marzo primera ...      0\n",
              "1  1872685  george matthias von martens botánico alemán ma...      0\n",
              "2  1896519  puente libertad ponte della libertà italiano p...      0\n",
              "3  1874136  guillemont población comuna francesa región pi...      0\n",
              "4  1876977  dimensión latina internacional octavo álbum ag...      0"
            ],
            "text/html": [
              "\n",
              "\n",
              "  <div id=\"df-f80dc43b-86fa-427e-86c3-0e9193d0e723\">\n",
              "    <div class=\"colab-df-container\">\n",
              "      <div>\n",
              "<style scoped>\n",
              "    .dataframe tbody tr th:only-of-type {\n",
              "        vertical-align: middle;\n",
              "    }\n",
              "\n",
              "    .dataframe tbody tr th {\n",
              "        vertical-align: top;\n",
              "    }\n",
              "\n",
              "    .dataframe thead th {\n",
              "        text-align: right;\n",
              "    }\n",
              "</style>\n",
              "<table border=\"1\" class=\"dataframe\">\n",
              "  <thead>\n",
              "    <tr style=\"text-align: right;\">\n",
              "      <th></th>\n",
              "      <th>doc_id</th>\n",
              "      <th>Texto</th>\n",
              "      <th>clase</th>\n",
              "    </tr>\n",
              "  </thead>\n",
              "  <tbody>\n",
              "    <tr>\n",
              "      <th>0</th>\n",
              "      <td>1879679</td>\n",
              "      <td>marion jones farquhar noviembre marzo primera ...</td>\n",
              "      <td>0</td>\n",
              "    </tr>\n",
              "    <tr>\n",
              "      <th>1</th>\n",
              "      <td>1872685</td>\n",
              "      <td>george matthias von martens botánico alemán ma...</td>\n",
              "      <td>0</td>\n",
              "    </tr>\n",
              "    <tr>\n",
              "      <th>2</th>\n",
              "      <td>1896519</td>\n",
              "      <td>puente libertad ponte della libertà italiano p...</td>\n",
              "      <td>0</td>\n",
              "    </tr>\n",
              "    <tr>\n",
              "      <th>3</th>\n",
              "      <td>1874136</td>\n",
              "      <td>guillemont población comuna francesa región pi...</td>\n",
              "      <td>0</td>\n",
              "    </tr>\n",
              "    <tr>\n",
              "      <th>4</th>\n",
              "      <td>1876977</td>\n",
              "      <td>dimensión latina internacional octavo álbum ag...</td>\n",
              "      <td>0</td>\n",
              "    </tr>\n",
              "  </tbody>\n",
              "</table>\n",
              "</div>\n",
              "      <button class=\"colab-df-convert\" onclick=\"convertToInteractive('df-f80dc43b-86fa-427e-86c3-0e9193d0e723')\"\n",
              "              title=\"Convert this dataframe to an interactive table.\"\n",
              "              style=\"display:none;\">\n",
              "\n",
              "  <svg xmlns=\"http://www.w3.org/2000/svg\" height=\"24px\"viewBox=\"0 0 24 24\"\n",
              "       width=\"24px\">\n",
              "    <path d=\"M0 0h24v24H0V0z\" fill=\"none\"/>\n",
              "    <path d=\"M18.56 5.44l.94 2.06.94-2.06 2.06-.94-2.06-.94-.94-2.06-.94 2.06-2.06.94zm-11 1L8.5 8.5l.94-2.06 2.06-.94-2.06-.94L8.5 2.5l-.94 2.06-2.06.94zm10 10l.94 2.06.94-2.06 2.06-.94-2.06-.94-.94-2.06-.94 2.06-2.06.94z\"/><path d=\"M17.41 7.96l-1.37-1.37c-.4-.4-.92-.59-1.43-.59-.52 0-1.04.2-1.43.59L10.3 9.45l-7.72 7.72c-.78.78-.78 2.05 0 2.83L4 21.41c.39.39.9.59 1.41.59.51 0 1.02-.2 1.41-.59l7.78-7.78 2.81-2.81c.8-.78.8-2.07 0-2.86zM5.41 20L4 18.59l7.72-7.72 1.47 1.35L5.41 20z\"/>\n",
              "  </svg>\n",
              "      </button>\n",
              "\n",
              "\n",
              "\n",
              "    <div id=\"df-c629b8ff-44b2-4389-8db5-87354f670f80\">\n",
              "      <button class=\"colab-df-quickchart\" onclick=\"quickchart('df-c629b8ff-44b2-4389-8db5-87354f670f80')\"\n",
              "              title=\"Suggest charts.\"\n",
              "              style=\"display:none;\">\n",
              "\n",
              "<svg xmlns=\"http://www.w3.org/2000/svg\" height=\"24px\"viewBox=\"0 0 24 24\"\n",
              "     width=\"24px\">\n",
              "    <g>\n",
              "        <path d=\"M19 3H5c-1.1 0-2 .9-2 2v14c0 1.1.9 2 2 2h14c1.1 0 2-.9 2-2V5c0-1.1-.9-2-2-2zM9 17H7v-7h2v7zm4 0h-2V7h2v10zm4 0h-2v-4h2v4z\"/>\n",
              "    </g>\n",
              "</svg>\n",
              "      </button>\n",
              "    </div>\n",
              "\n",
              "<style>\n",
              "  .colab-df-quickchart {\n",
              "    background-color: #E8F0FE;\n",
              "    border: none;\n",
              "    border-radius: 50%;\n",
              "    cursor: pointer;\n",
              "    display: none;\n",
              "    fill: #1967D2;\n",
              "    height: 32px;\n",
              "    padding: 0 0 0 0;\n",
              "    width: 32px;\n",
              "  }\n",
              "\n",
              "  .colab-df-quickchart:hover {\n",
              "    background-color: #E2EBFA;\n",
              "    box-shadow: 0px 1px 2px rgba(60, 64, 67, 0.3), 0px 1px 3px 1px rgba(60, 64, 67, 0.15);\n",
              "    fill: #174EA6;\n",
              "  }\n",
              "\n",
              "  [theme=dark] .colab-df-quickchart {\n",
              "    background-color: #3B4455;\n",
              "    fill: #D2E3FC;\n",
              "  }\n",
              "\n",
              "  [theme=dark] .colab-df-quickchart:hover {\n",
              "    background-color: #434B5C;\n",
              "    box-shadow: 0px 1px 3px 1px rgba(0, 0, 0, 0.15);\n",
              "    filter: drop-shadow(0px 1px 2px rgba(0, 0, 0, 0.3));\n",
              "    fill: #FFFFFF;\n",
              "  }\n",
              "</style>\n",
              "\n",
              "    <script>\n",
              "      async function quickchart(key) {\n",
              "        const containerElement = document.querySelector('#' + key);\n",
              "        const charts = await google.colab.kernel.invokeFunction(\n",
              "            'suggestCharts', [key], {});\n",
              "      }\n",
              "    </script>\n",
              "\n",
              "      <script>\n",
              "\n",
              "function displayQuickchartButton(domScope) {\n",
              "  let quickchartButtonEl =\n",
              "    domScope.querySelector('#df-c629b8ff-44b2-4389-8db5-87354f670f80 button.colab-df-quickchart');\n",
              "  quickchartButtonEl.style.display =\n",
              "    google.colab.kernel.accessAllowed ? 'block' : 'none';\n",
              "}\n",
              "\n",
              "        displayQuickchartButton(document);\n",
              "      </script>\n",
              "      <style>\n",
              "    .colab-df-container {\n",
              "      display:flex;\n",
              "      flex-wrap:wrap;\n",
              "      gap: 12px;\n",
              "    }\n",
              "\n",
              "    .colab-df-convert {\n",
              "      background-color: #E8F0FE;\n",
              "      border: none;\n",
              "      border-radius: 50%;\n",
              "      cursor: pointer;\n",
              "      display: none;\n",
              "      fill: #1967D2;\n",
              "      height: 32px;\n",
              "      padding: 0 0 0 0;\n",
              "      width: 32px;\n",
              "    }\n",
              "\n",
              "    .colab-df-convert:hover {\n",
              "      background-color: #E2EBFA;\n",
              "      box-shadow: 0px 1px 2px rgba(60, 64, 67, 0.3), 0px 1px 3px 1px rgba(60, 64, 67, 0.15);\n",
              "      fill: #174EA6;\n",
              "    }\n",
              "\n",
              "    [theme=dark] .colab-df-convert {\n",
              "      background-color: #3B4455;\n",
              "      fill: #D2E3FC;\n",
              "    }\n",
              "\n",
              "    [theme=dark] .colab-df-convert:hover {\n",
              "      background-color: #434B5C;\n",
              "      box-shadow: 0px 1px 3px 1px rgba(0, 0, 0, 0.15);\n",
              "      filter: drop-shadow(0px 1px 2px rgba(0, 0, 0, 0.3));\n",
              "      fill: #FFFFFF;\n",
              "    }\n",
              "  </style>\n",
              "\n",
              "      <script>\n",
              "        const buttonEl =\n",
              "          document.querySelector('#df-f80dc43b-86fa-427e-86c3-0e9193d0e723 button.colab-df-convert');\n",
              "        buttonEl.style.display =\n",
              "          google.colab.kernel.accessAllowed ? 'block' : 'none';\n",
              "\n",
              "        async function convertToInteractive(key) {\n",
              "          const element = document.querySelector('#df-f80dc43b-86fa-427e-86c3-0e9193d0e723');\n",
              "          const dataTable =\n",
              "            await google.colab.kernel.invokeFunction('convertToInteractive',\n",
              "                                                     [key], {});\n",
              "          if (!dataTable) return;\n",
              "\n",
              "          const docLinkHtml = 'Like what you see? Visit the ' +\n",
              "            '<a target=\"_blank\" href=https://colab.research.google.com/notebooks/data_table.ipynb>data table notebook</a>'\n",
              "            + ' to learn more about interactive tables.';\n",
              "          element.innerHTML = '';\n",
              "          dataTable['output_type'] = 'display_data';\n",
              "          await google.colab.output.renderOutput(dataTable, element);\n",
              "          const docLink = document.createElement('div');\n",
              "          docLink.innerHTML = docLinkHtml;\n",
              "          element.appendChild(docLink);\n",
              "        }\n",
              "      </script>\n",
              "    </div>\n",
              "  </div>\n"
            ]
          },
          "metadata": {},
          "execution_count": 27
        }
      ],
      "source": [
        "# docus = df[(df['doc_id']=='1023628') |\\\n",
        "#            (df['doc_id']=='1024447') |\\\n",
        "#            (df['doc_id']=='1035967') |\\\n",
        "#            (df['doc_id']=='1891029') |\\\n",
        "#            (df['doc_id']=='1894599') ]\n",
        "docus = df.sample(n=5)\n",
        "docus.index=range(len(docus.index))\n",
        "\n",
        "docus.head()"
      ]
    },
    {
      "cell_type": "code",
      "execution_count": 28,
      "metadata": {
        "id": "omwKt3bmuXLx"
      },
      "outputs": [],
      "source": [
        "k=1\n",
        "vecinos=k_vecinos_mas_cercanos(docus,edf,k)"
      ]
    },
    {
      "cell_type": "code",
      "execution_count": 29,
      "metadata": {
        "id": "ZQgk4OvIuXLx",
        "outputId": "e781dfaf-1937-4cf2-f69d-ffd48ff9760a",
        "colab": {
          "base_uri": "https://localhost:8080/"
        }
      },
      "outputs": [
        {
          "output_type": "stream",
          "name": "stdout",
          "text": [
            "OrderedDict([('1879679', [['1878387', 0.2427968]]), ('1872685', [['1876599', 0.16401033]]), ('1896519', [['1896221', 0.22298254]]), ('1874136', [['1874106', 0.0026984783]]), ('1876977', [['1890555', 0.12792516]])])\n"
          ]
        }
      ],
      "source": [
        "print(vecinos)"
      ]
    },
    {
      "cell_type": "code",
      "execution_count": 30,
      "metadata": {
        "id": "Z8J00q0JuXLx",
        "outputId": "9e7fb374-c2c2-49aa-c0b6-6f231d4865c1",
        "colab": {
          "base_uri": "https://localhost:8080/"
        }
      },
      "outputs": [
        {
          "output_type": "stream",
          "name": "stdout",
          "text": [
            "['marion jones farquhar noviembre marzo primera tenista estadounidense compitió torneo londinense wimbledon cayendo ronda cuartos final jones convirtió primera californiana alcanzar finales campeonato americano femenino volviendo siguiente año llevarse título lograría ganar dicho campeonato nuevo subcampeonato jones finalizaría participación histórica competición victorias sólo derrotas equipo olímpico estadounidense engrosaría medallero segundos juegos olímpicos historia moderna gracias dos medallas bronce jones conseguidas modalidades individuales dobles competición dobles tenista ganó torneo nacional estadounidense modalidad mixto femenino marion jones farquhar elegida miembro salón internacional fama tenis marion jones farquhar']\n",
            "   ['ronaille calheira bahía mayo futbolista brasileño juega delantero actual equipo sport ancash primera división perú delantero bueno definición bueno juego aéreo primera opción deseo jugar club universitario deportes viene entrenando calidad invitado resuelva caso fifa clubes palmarés']\n",
            "\n",
            "['george matthias von martens botánico alemán mayor esfuerzo taxonómico pubicación die tange base expediciones botánicas asiático tales evnetos hijos von martens eduard jefe zoólogo expedición recolectó flora algas marinas agua dulce provenientes java filipinas singapur taiwán hong kong regiones asiático publicaciones martens von die tange die preussische expedition nach ostasien nach amtlichen quellenbotanischer theil berlin pls martens von hering amansia jungermannioides flora trabajó identificación clasificación nuevas especies colega gustav schübler arrhenatherum elatius ssp bulbosum willd schübl gmartens prunus avium subsp duracina schübl gmartens publicándolas habitualmente reise venedig würtemberg referencias enlaces externos']\n",
            "   ['rudolf mansfeld botánico alemán taxónomo berlindahlem luego segunda guerra mundial muda gatersleben estudiando taxonomía plantas cultivadas haciendo revisiones variación infraespecífica trigo cebada estableciendo fructífera síntesis manejo genómico taxonomía especies cultivadas reiteradamente reeditada mansfeld encyclopedia agricultural horticultural crops edita inglés hanelt instituto genética vegetal investigación cultivos gatersleben actualidad encuentra base datos internet consultas especies cultivadas editor jefe periódico germano die kulturpflanze predecesor grace comienao vol último ejemplar vol publicaciones mansfeld kegeliella kupperi repertorium speciarum novarum regni veg mansfeld uber das system der orchidaceaemonandrae notizblatt des koniglichen bot gartens museums berlindahlem mansfeld zur nomenklatur der farn und blütenpflanzen deutschlands ixii feddes repert mansfeld die technik der wissenschaftlichen pflanzenbenennung akademieverlag berlin mansfeld das morphologische system der saatgerste hordeum vulgarel züchter mansfeld die obst liefernden blasenkirschen physalis der züchter band heft springer berlin heidelberg issn mansfeld über die verteilung der merkmale innerhalb der orchidaceaemonandrae flora referencias enlaces externos']\n",
            "\n",
            "['puente libertad ponte della libertà italiano puente carretero une ciudad venecia piazzale roma continente diseñado ingeniero eugenio miozzi inaugurado benito mussolini abril bajo nombre puente littorio única vía acceso circulación vehículos capital región véneto puente construido casi toda longitud junto antiguo puente ferroviario construido reino lombardovéneto final segunda guerra mundial rebautizado nombre puente libertad honor liberación fascismo puente tramo final carretera estatal padana superior largo consta dos carriles cada dirección flanqueado dos amplias aceras función carril bici último tramo puente cerca venecia presenta única acera falta lado ferrocarril sector hacia venecia ensancha carriles carril reservado transporte público véase puente academia puente constitución venecia puente descalzos puente rialto referencias']\n",
            "   ['catedral virgen maría catedral anglicana localizada ciudad truro condado cornualles inglaterra primera catedral construyó tras época dorada construcción catedrales edad media construida estilo neogótico estilo moda época construcción tres únicas catedrales reino unido tres agujas historia construcción empezó mismo lugar parroquia siglo xvi dedicada santa maría virgen siguiendo planos arquitecto john loughborough pearson figura sobresaliente estilo neogótico siglo xix estilo combina características gótico inglés elementos gótico francés agujas rosetones semejanza catedral truro lincoln coincidencia pearson sido nombrado arquitecto catedral lincoln primer obispo truro edward benson sido previamente canciller canónigo lincoln torre central aguja eleva altura metros mientras dos torres occidentales alcanzan metros pasillos originales iglesia santa maría todavía encuentra catedral esquina sureste todavía funciona principal iglesia parroquial ciudad debido catedral dedicada virgen maría capilla virgen capilla jesucristo catedral truro característica aún inusual pequeña curvatura planta debido catedral encuentra centro ciudad pequeño espacio casas tiendas pegadas catedral lados fin acomodar catedral necesario doblar edifico casi dos metros hacia norte primera piedra puso primera sección catedral consagrada torre central completada edifico terminó apertura dos torres occidentales pearson murió trabajo pasó manos hijo frank catedral atrae cada año turistas localización priemr servicio nueve lecciones carols ideadas obispo edward white benson nochebuena parte oriental catedral completamente restaurada reemplazó piedra bath resistente piedra seyford fachada occidental restaurada misma manera parte oriental ambos proyectos supervisados firma mrda architects londres arquitectos catedral véase arquitectura románica iglesia inglaterra referencias enlaces externos catedral truro web oficial panoramas catedral truro imágenes flickr llamadas catedral truro']\n",
            "\n",
            "['guillemont población comuna francesa región picardía departamento somme distrito péronne cantón combles demografía enlaces externos insee elecciones municipales']\n",
            "   ['gueudecourt población comuna francesa región picardía departamento somme distrito péronne cantón combles demografía enlaces externos insee elecciones municipales']\n",
            "\n",
            "['dimensión latina internacional octavo álbum agrupación venezolana dimensión latina editado disquera top hits formato larga duración vinilo rpm primer disco agrupación cantante bajista original oscar dleón separó iniciar carrera solista dleón sustituido argenis carruyo voces gustavo carmona bajo mientras producción recayó manos césar monge canciones lado mires así canta wladimir reir cantar canta argenis wladimir dos corazones canta wladimir argenis altar faltas lado dame querer canta argenis aquí espero canta wladimir argenis paseíto canta argenis delirio canta wladimir lluvia nieve instrumental créditos alfabético músicos argenis carruyo voz maracas carlos guerra trombón coros césar monje trombón coros elio pacheco tumbadora gustavo carmona bajo jesús narvaez piano josé rodríguez timbal timbalito josé rojas trombón coros wladimir lozano voz güiro coros producción arreglos dirección musical césar monge arte luis generani fotografía contraportada oswaldo silva grabado estudio intersonido técnicos grabación armando benavides verde técnicos matrizado estrella fuente discografía dimensión latina venciclopedia gfdl']\n",
            "   ['discobólo álbum músico venezolano oscar dleón grabado puerto rico editado discografica top hits formato larga duración vinilo rpm disco produjo sencillo derecho nacer canciones conocidas dleón embargo disco recordado icónica carátula presenta oscar dleón posición famosa estatua mirón libro cocinando fifty years latin album cover art autor pablo ellicott compara carátula clásicas salsa diciendo contraste glamour escena nueva york súper estrella venezolana oscar dleón entrega salsero atleta olímpico figura deportista siempre calado profundo minorías representación poder conocimientos orgullo escape pobreza intento discóbolo bajo presupuesto león muestra fuerza atlética compara poder ganar discos oro canciones lado quisiera saber jesús martínez sublime ilusión salvador adams ángel guarda oscar serfaty lado enamorado josé bermúdez césar fuentes oye mima sergio gonzález quieras pepe delgado derecho nacer flor morales ramos créditos músicos oscar dleón voz bajo arreglos referencias']\n",
            "\n"
          ]
        }
      ],
      "source": [
        "lista = []\n",
        "for item in vecinos:\n",
        "    vecino = vecinos[item][0][0]\n",
        "    lista.append((item,vecino))\n",
        "for docs in lista:\n",
        "    print(df.loc[df['doc_id']==docs[0]].Texto.values)\n",
        "    print('  ',df.loc[df['doc_id']==docs[1]].Texto.values)\n",
        "    print()\n",
        ""
      ]
    },
    {
      "cell_type": "markdown",
      "metadata": {
        "id": "6GuGb4aYuXLx"
      },
      "source": [
        "## **Ejercicio 2**"
      ]
    },
    {
      "cell_type": "markdown",
      "metadata": {
        "id": "uVszWpZFuXLy"
      },
      "source": [
        "Modelo SKIP-gram... Ojo! Es tardado..."
      ]
    },
    {
      "cell_type": "code",
      "execution_count": 31,
      "metadata": {
        "id": "QPEHmF_luXLy"
      },
      "outputs": [],
      "source": [
        "from gensim.models import Word2Vec\n",
        "\n",
        "vec_dim= 300\n",
        "w2v_sg = Word2Vec(documentos, min_count=1, vector_size=vec_dim, workers=4, window=5,sg=1)\n",
        "#print(W2V[\"comenzó\"][:10])"
      ]
    },
    {
      "cell_type": "code",
      "source": [
        "w2v_sg.save('/content/datos/word2vec_sg.model')"
      ],
      "metadata": {
        "id": "09lQgz1BzZ5N"
      },
      "execution_count": 32,
      "outputs": []
    },
    {
      "cell_type": "code",
      "execution_count": 33,
      "metadata": {
        "id": "i6PUFYrKuXLy"
      },
      "outputs": [],
      "source": [
        "w2v_sg=Word2Vec.load('/content/datos/word2vec_sg.model')"
      ]
    },
    {
      "cell_type": "code",
      "source": [
        "w2v_sg"
      ],
      "metadata": {
        "id": "zsYonc1b5EyW",
        "outputId": "8b6ba722-f7b2-4fbe-85a1-c5433f1099a0",
        "colab": {
          "base_uri": "https://localhost:8080/"
        }
      },
      "execution_count": 34,
      "outputs": [
        {
          "output_type": "execute_result",
          "data": {
            "text/plain": [
              "<gensim.models.word2vec.Word2Vec at 0x7d8ee9ff4520>"
            ]
          },
          "metadata": {},
          "execution_count": 34
        }
      ]
    },
    {
      "cell_type": "code",
      "execution_count": 35,
      "metadata": {
        "id": "FHcTr3jSuXLy"
      },
      "outputs": [],
      "source": [
        "edf_sg=wi.modela_documentos(df,w2v_sg.wv)"
      ]
    },
    {
      "cell_type": "code",
      "execution_count": 36,
      "metadata": {
        "id": "Ah2PjwwIuXLy"
      },
      "outputs": [],
      "source": [
        "k=1\n",
        "vecinos_sg=wi.k_vecinos_mas_cercanos(docus,edf_sg,k)"
      ]
    },
    {
      "cell_type": "code",
      "source": [
        "vecinos_sg"
      ],
      "metadata": {
        "id": "4I6Q-soc5XiK",
        "outputId": "2b8ef3e8-c327-4e9c-9a25-ce8e4010012e",
        "colab": {
          "base_uri": "https://localhost:8080/"
        }
      },
      "execution_count": 37,
      "outputs": [
        {
          "output_type": "execute_result",
          "data": {
            "text/plain": [
              "OrderedDict([('1879679', [['1886491', 0.35582426]]),\n",
              "             ('1872685', [['1887066', 0.3057104]]),\n",
              "             ('1896519', [['1878889', 0.276122]]),\n",
              "             ('1874136', [['1872734', 0.0041235615]]),\n",
              "             ('1876977', [['1876944', 0.14852019]])])"
            ]
          },
          "metadata": {},
          "execution_count": 37
        }
      ]
    },
    {
      "cell_type": "code",
      "execution_count": 39,
      "metadata": {
        "id": "vLRxGG_kuXLy",
        "outputId": "3cc08334-e249-41e3-8334-b45ee6b1f550",
        "colab": {
          "base_uri": "https://localhost:8080/"
        }
      },
      "outputs": [
        {
          "output_type": "stream",
          "name": "stdout",
          "text": [
            "[['1886491', 0.35582426]]\n"
          ]
        }
      ],
      "source": [
        "print(vecinos_sg['1879679'])"
      ]
    },
    {
      "cell_type": "code",
      "execution_count": 40,
      "metadata": {
        "id": "CmGmyLOGuXLy",
        "outputId": "7c06d5d8-0970-447d-b71e-0ca803542f98",
        "colab": {
          "base_uri": "https://localhost:8080/"
        }
      },
      "outputs": [
        {
          "output_type": "stream",
          "name": "stdout",
          "text": [
            "[['1891029'\n",
            "  'accidente trenes chatsworth ángeles accidente ferroviario ocurrió septiembre pdt gmt distrito chatsworth ángeles california unidos colisión accidente ferroviario mortífero unidos desastre ferroviario big bayou canot causas motivos choque aún esclarecido tyrell especificó abc locomotora jalando tren metrolink fuerza colisión parecer empujó pesada locomotora primer vagón pasajeros volcó lado trenes viajaban misma vía aparentemente trenes cambian locación remota tyrell dijo emisora claramente mal dijo mayoría heridas sido provocadas violentas sacudidas ocasionadas impacto trágico accidente ocurrió locomotora toneladas jalaba tren pasajeros retrocedió aplastando primer vagón tripulantes luego impactarse frente tren carga tren pasajeros metrolink consistía locomotora tres vagones capacidad pasajeros viajaba dirección hacia moorpark chocó tren carga venía union pacific según compañía empleadora conductor tren pasajeros chocó frente tren carga cerca ángeles causante hecho dejó muertos según denise tyrell portavoz metrolink conductor tren respetó semáforo rojo tomó vía venía frente tren carga ambos trenes desplazan hacia frente momento colisión menos pasajero tren metrolink reportó ver visto tren carga justo impacto justo doblaban curva colisión ocurrió tiempo suficiente parar maquinista tren pasajeros encontraba parte trasera vagones resultó herido accidente estimo tren iba velocidad millas horas kilómetros hora llegar mortal incidente ntsb confirmó tren iba viajando mph cintas audio tren indicaron maquinista despachador condujeron revisiones seguridad choque dijeron investigadores federales noche domingo sábado vocera metrolink tomó inusual acción decir agencia responsable choque maquinista tren obedeció luz roja paró permitir pasara tren carga embargo junta nacional seguridad transporte ntsb sindicato representa empleados ferroviarios dijeron demasiado temprano hacer conclusiones causa choque mañana lunes denise tyrrell vocera anunció renuncia investigadores examinando reportes afirman maquinista pudo haber distraído mensajes texto minutos tragedia informó ntsb emisora cbs reportó ingeniero pudo haber enviado textos amigo choque aunque investigadores ntsb dijeron establecer causa colisión podría tardar año entusiasta trenes años edad dijo estación recibió mensaje texto maquinista aproximadamente minuto accidente maquinista tren metrolink sido identificado oficialmente entusiastas trenes dijeron enviado mensajes texto minutos accidente identificaron robert sánchez años consecuencias respuesta emergencia departamento bomberos ángeles lafd enviado principio solo camión cuatro miembros cuerpo bomberos posible rescate físico dirección residencial cerca escena respuesta llamada emergencia hecha hogar bomberos llegaron lugar escena justo tiempo pacífico entraron escena romper barda patio trenes llegaron capital escena pidió llamara ambulancias adicionales después camiones después llegar directamente sitio escena pidió equipos rescate ciudad cientos cuadrillas ayudantes escena ayudar sacar heridos recuperación incluyendo bomberos evento operacionalmente identificado incidente chatsworth reclasificado incidente gran número fallecidos todas seis helicópteros departamento bomberos ángeles llamadas igual seis helicópteros departamento bomberos condado angeles departame sheriff condado ángeles helicópteros solicitados virtud arreglo ayuda mutua heridos fallecidos veinte cuatro cuerpos recuperados lugar escena víctima sido rescatada viva murió después cerca hospital número muertes podría incrementar debido gran número personas condiciones criticas total reportados heridos critico aproximadamente personas enviadas hospital mevacuados helicópteros ambulancia aérea capital departamento bomberos ángeles steve ruda reportó alto número heridos propasó capacidad hospitales pacientes distribuidos centro traumas condado ángeles total reportados heridos crítico departamento policía ángeles declaró alerta táctica respuesta incidente portavoz alguacil condado ángeles señaló muertos heridos rescatados hierros retorcidos varios vagones volcaron tras colisión vagones incendiaron bomberos acudieron lugar tardaron dos horas apagar llamas capitán ruda dijo bomberos nunca visto tanta carnicería austin walbridge pasajero tren dijo reportero noticias interior tren sangriento destruido horrible bomberos describieron víctimas haberse lesionado heridas amal obaid cirujano hecho muchas cirugías describió heridas detalles lesiones cabeza múltiples fracturas faciales traumatismos torácicos colapsos pulmunares fracturas costillas fracturas pelvis fracturas piernas brazos cortes piel tejidos blandos sangre cerebro médico forense condado ángeles puso tienda aire acondicionado funcionó morque temporal lugar desastre oficiales servicio departamento policía ángeles víctimas confirmadas igual ingeniero metrolink empleado transportes veolia contratista servicio metrolink cuatros tripulantes tren resultaron ilesos aunque cuerpos recuperados localizado cabina mando presume cuerpo maquinista búsqueda víctimas terminó pdt septiembre aproximadamente horas después colisión victimas identificadas mencionadas medios residentes valle simi valley moorpark dirigían casa trabajo centro ángeles septiembre cadena noticias ángeles kabctv news channel reportó alcalde ángeles antonio villaraigosa dijo reporteros escena incidente número muertes confirmadas continuaba ascenso menos fatalidades confirmadas oficina forense dijo villaraigosa alrededor mientras muertes seguían aumentando número crecerá saben momento fase rescate punto aún personas todavía sido extraídas ruinas así espera número crezca bomberos apresuraron escena lograron apagar rápidamente flamas provocadas impacto tiempo buscar posibles víctimas ayudar pasajeros vagones menos siete vagones tren carga desrielaron vagón tren pasajeros metrolink volcó lado vías matando personas menos heridos cifra muertos choque dos trenes valle san fernando incrementó septiembre tras deceso heridos accidente ocurrido septiembre reportaron autoridades locales ubicación colisión ocurrió cerca localidad chatsworth tarde hora pacífico localidad encuentra valle san fernando kilómetros noroeste ángeles portavoz empresa ferroviaria metrolink denise tyrrell indicado tren partió estación unión ciudad ángeles dirección condado ventura sabemos tren chocó revés manifestado antecedentes mortales enero personas murieron docenas personas resultaron heridas tren metrolink impactó jeep cherokee sido estacionado vías tren atwater village tren descarrió chocó tren viajando dirección opuesta impactó tren carga descarrilamiento mortal agosto hombre aparcó jeep vías juan manuel álvarez años sentenciado cadenas perpetuas consecutivas referencias'\n",
            "  0]]\n",
            "[['1896707'\n",
            "  'vuelo northwest airlines agosto aeropuerto internacional mbs saginaw michigan unidos américa aeropuerto john wayne santa ana california escalas aeropuerto metropolitano detroitcondado wayne romulus michigan cerca detroit aeropuerto internacional sky harbor phoenix arizona mcdonnell douglas matrícula nrc estrelló tras despegar detroit hora local edt muriendo toda tripulación pasajeros salvo niña años cecelia cichan sufrió heridas graves accidente vuelo despegó final pista aeropuerto metropolitano detroitcondado wayne ascenso inicial avión inclinó grados cada dirección ala izquierda golpeó poste eléctrico final pista postes eléctricos techo edificio alquiler coches posteriormente avión cayó tierra avión continuó deslizándose tierra cerca interstate víctimas única superviviente niña cuatro años cecelia cichan tempe arizona cecelia graduó psicología universidad alabama tuscaloosa alabama pasajeros fallecidos nick vanos pívot equipo baloncesto phoenix suns murieron dos motoristas circulaban middlebelt road cinco personas resultaron heridas tierra gravedad víctimas mortales trasladadas hangar aeropuerto funcionó depósito cadáveres provisional consecuencias ntsb determinó causa probable accidente fallo tripulación comprobar flaps slats desplegados despegue contribuyó accidente falta energía eléctrica sistema aviso despegue avión alertó tripulación avión encontraba configurado correctamente despegue causa falta energía eléctrica pudo ser determinada grabaciones caja negra proporcionaron prueba respecto omisión parte tripulación lista comprobación previa despegue usando grabaciones investigadores determinaron nunca sonó sistema alerta configuración inadecuada despegue tows embargo tras despeque sonó alerta anunciando condición pérdida aerodinámica stall warning existía fallo eléctrico debido disyuntor saltado pruebas tras accidente pusieron manifiesto mal funcionamiento disyuntor'\n",
            "  0]]\n"
          ]
        }
      ],
      "source": [
        "test1=df[df['doc_id']=='1891029'].values\n",
        "test2=df[df['doc_id']=='1896707'].values\n",
        "print(test1)\n",
        "print(test2)"
      ]
    },
    {
      "cell_type": "markdown",
      "metadata": {
        "id": "RIZQZ7kMuXLz"
      },
      "source": [
        "<hr>\n",
        "</hr>"
      ]
    },
    {
      "cell_type": "code",
      "execution_count": 41,
      "metadata": {
        "id": "VGU_5LeauXLz",
        "outputId": "6a3cfe64-c6eb-4c74-d3e5-e8d1f985fbb7",
        "colab": {
          "base_uri": "https://localhost:8080/",
          "height": 354
        }
      },
      "outputs": [
        {
          "output_type": "stream",
          "name": "stdout",
          "text": [
            "(2117, 6)\n"
          ]
        },
        {
          "output_type": "execute_result",
          "data": {
            "text/plain": [
              "    doc_id                                              Texto  clase  \\\n",
              "0  1886236  taifa valencia taifa balansiya reinos taifas c...      0   \n",
              "1  1878783  deva victrix simplemente deva ciudadfortaleza ...      0   \n",
              "2  1882951  animax latinoamérica complejo tres canales cab...      0   \n",
              "3  1888749  serie fílmica superman lista largometrajes per...      0   \n",
              "4  1880333  rock rolinga llamado rock chabón rock stone ro...      0   \n",
              "\n",
              "                                            Palabras  Total  \\\n",
              "0  [taifa, valencia, taifa, balansiya, reinos, ta...   1949   \n",
              "1  [deva, victrix, simplemente, deva, ciudadforta...   1893   \n",
              "2  [animax, latinoamérica, complejo, tres, canale...   1847   \n",
              "3  [serie, fílmica, superman, lista, largometraje...   1831   \n",
              "4  [rock, rolinga, llamado, rock, chabón, rock, s...   1829   \n",
              "\n",
              "                                             Conteos  \n",
              "0  {'taifa': 25, 'valencia': 61, 'balansiya': 4, ...  \n",
              "1  {'deva': 19, 'victrix': 16, 'simplemente': 1, ...  \n",
              "2  {'animax': 60, 'latinoamérica': 10, 'complejo'...  \n",
              "3  {'serie': 11, 'fílmica': 2, 'superman': 75, 'l...  \n",
              "4  {'rock': 67, 'rolinga': 19, 'llamado': 2, 'cha...  "
            ],
            "text/html": [
              "\n",
              "\n",
              "  <div id=\"df-6fe59c1a-ab8b-49c2-b378-9af296962478\">\n",
              "    <div class=\"colab-df-container\">\n",
              "      <div>\n",
              "<style scoped>\n",
              "    .dataframe tbody tr th:only-of-type {\n",
              "        vertical-align: middle;\n",
              "    }\n",
              "\n",
              "    .dataframe tbody tr th {\n",
              "        vertical-align: top;\n",
              "    }\n",
              "\n",
              "    .dataframe thead th {\n",
              "        text-align: right;\n",
              "    }\n",
              "</style>\n",
              "<table border=\"1\" class=\"dataframe\">\n",
              "  <thead>\n",
              "    <tr style=\"text-align: right;\">\n",
              "      <th></th>\n",
              "      <th>doc_id</th>\n",
              "      <th>Texto</th>\n",
              "      <th>clase</th>\n",
              "      <th>Palabras</th>\n",
              "      <th>Total</th>\n",
              "      <th>Conteos</th>\n",
              "    </tr>\n",
              "  </thead>\n",
              "  <tbody>\n",
              "    <tr>\n",
              "      <th>0</th>\n",
              "      <td>1886236</td>\n",
              "      <td>taifa valencia taifa balansiya reinos taifas c...</td>\n",
              "      <td>0</td>\n",
              "      <td>[taifa, valencia, taifa, balansiya, reinos, ta...</td>\n",
              "      <td>1949</td>\n",
              "      <td>{'taifa': 25, 'valencia': 61, 'balansiya': 4, ...</td>\n",
              "    </tr>\n",
              "    <tr>\n",
              "      <th>1</th>\n",
              "      <td>1878783</td>\n",
              "      <td>deva victrix simplemente deva ciudadfortaleza ...</td>\n",
              "      <td>0</td>\n",
              "      <td>[deva, victrix, simplemente, deva, ciudadforta...</td>\n",
              "      <td>1893</td>\n",
              "      <td>{'deva': 19, 'victrix': 16, 'simplemente': 1, ...</td>\n",
              "    </tr>\n",
              "    <tr>\n",
              "      <th>2</th>\n",
              "      <td>1882951</td>\n",
              "      <td>animax latinoamérica complejo tres canales cab...</td>\n",
              "      <td>0</td>\n",
              "      <td>[animax, latinoamérica, complejo, tres, canale...</td>\n",
              "      <td>1847</td>\n",
              "      <td>{'animax': 60, 'latinoamérica': 10, 'complejo'...</td>\n",
              "    </tr>\n",
              "    <tr>\n",
              "      <th>3</th>\n",
              "      <td>1888749</td>\n",
              "      <td>serie fílmica superman lista largometrajes per...</td>\n",
              "      <td>0</td>\n",
              "      <td>[serie, fílmica, superman, lista, largometraje...</td>\n",
              "      <td>1831</td>\n",
              "      <td>{'serie': 11, 'fílmica': 2, 'superman': 75, 'l...</td>\n",
              "    </tr>\n",
              "    <tr>\n",
              "      <th>4</th>\n",
              "      <td>1880333</td>\n",
              "      <td>rock rolinga llamado rock chabón rock stone ro...</td>\n",
              "      <td>0</td>\n",
              "      <td>[rock, rolinga, llamado, rock, chabón, rock, s...</td>\n",
              "      <td>1829</td>\n",
              "      <td>{'rock': 67, 'rolinga': 19, 'llamado': 2, 'cha...</td>\n",
              "    </tr>\n",
              "  </tbody>\n",
              "</table>\n",
              "</div>\n",
              "      <button class=\"colab-df-convert\" onclick=\"convertToInteractive('df-6fe59c1a-ab8b-49c2-b378-9af296962478')\"\n",
              "              title=\"Convert this dataframe to an interactive table.\"\n",
              "              style=\"display:none;\">\n",
              "\n",
              "  <svg xmlns=\"http://www.w3.org/2000/svg\" height=\"24px\"viewBox=\"0 0 24 24\"\n",
              "       width=\"24px\">\n",
              "    <path d=\"M0 0h24v24H0V0z\" fill=\"none\"/>\n",
              "    <path d=\"M18.56 5.44l.94 2.06.94-2.06 2.06-.94-2.06-.94-.94-2.06-.94 2.06-2.06.94zm-11 1L8.5 8.5l.94-2.06 2.06-.94-2.06-.94L8.5 2.5l-.94 2.06-2.06.94zm10 10l.94 2.06.94-2.06 2.06-.94-2.06-.94-.94-2.06-.94 2.06-2.06.94z\"/><path d=\"M17.41 7.96l-1.37-1.37c-.4-.4-.92-.59-1.43-.59-.52 0-1.04.2-1.43.59L10.3 9.45l-7.72 7.72c-.78.78-.78 2.05 0 2.83L4 21.41c.39.39.9.59 1.41.59.51 0 1.02-.2 1.41-.59l7.78-7.78 2.81-2.81c.8-.78.8-2.07 0-2.86zM5.41 20L4 18.59l7.72-7.72 1.47 1.35L5.41 20z\"/>\n",
              "  </svg>\n",
              "      </button>\n",
              "\n",
              "\n",
              "\n",
              "    <div id=\"df-fa4283e6-6c49-497a-a85e-b2b9195f47dc\">\n",
              "      <button class=\"colab-df-quickchart\" onclick=\"quickchart('df-fa4283e6-6c49-497a-a85e-b2b9195f47dc')\"\n",
              "              title=\"Suggest charts.\"\n",
              "              style=\"display:none;\">\n",
              "\n",
              "<svg xmlns=\"http://www.w3.org/2000/svg\" height=\"24px\"viewBox=\"0 0 24 24\"\n",
              "     width=\"24px\">\n",
              "    <g>\n",
              "        <path d=\"M19 3H5c-1.1 0-2 .9-2 2v14c0 1.1.9 2 2 2h14c1.1 0 2-.9 2-2V5c0-1.1-.9-2-2-2zM9 17H7v-7h2v7zm4 0h-2V7h2v10zm4 0h-2v-4h2v4z\"/>\n",
              "    </g>\n",
              "</svg>\n",
              "      </button>\n",
              "    </div>\n",
              "\n",
              "<style>\n",
              "  .colab-df-quickchart {\n",
              "    background-color: #E8F0FE;\n",
              "    border: none;\n",
              "    border-radius: 50%;\n",
              "    cursor: pointer;\n",
              "    display: none;\n",
              "    fill: #1967D2;\n",
              "    height: 32px;\n",
              "    padding: 0 0 0 0;\n",
              "    width: 32px;\n",
              "  }\n",
              "\n",
              "  .colab-df-quickchart:hover {\n",
              "    background-color: #E2EBFA;\n",
              "    box-shadow: 0px 1px 2px rgba(60, 64, 67, 0.3), 0px 1px 3px 1px rgba(60, 64, 67, 0.15);\n",
              "    fill: #174EA6;\n",
              "  }\n",
              "\n",
              "  [theme=dark] .colab-df-quickchart {\n",
              "    background-color: #3B4455;\n",
              "    fill: #D2E3FC;\n",
              "  }\n",
              "\n",
              "  [theme=dark] .colab-df-quickchart:hover {\n",
              "    background-color: #434B5C;\n",
              "    box-shadow: 0px 1px 3px 1px rgba(0, 0, 0, 0.15);\n",
              "    filter: drop-shadow(0px 1px 2px rgba(0, 0, 0, 0.3));\n",
              "    fill: #FFFFFF;\n",
              "  }\n",
              "</style>\n",
              "\n",
              "    <script>\n",
              "      async function quickchart(key) {\n",
              "        const containerElement = document.querySelector('#' + key);\n",
              "        const charts = await google.colab.kernel.invokeFunction(\n",
              "            'suggestCharts', [key], {});\n",
              "      }\n",
              "    </script>\n",
              "\n",
              "      <script>\n",
              "\n",
              "function displayQuickchartButton(domScope) {\n",
              "  let quickchartButtonEl =\n",
              "    domScope.querySelector('#df-fa4283e6-6c49-497a-a85e-b2b9195f47dc button.colab-df-quickchart');\n",
              "  quickchartButtonEl.style.display =\n",
              "    google.colab.kernel.accessAllowed ? 'block' : 'none';\n",
              "}\n",
              "\n",
              "        displayQuickchartButton(document);\n",
              "      </script>\n",
              "      <style>\n",
              "    .colab-df-container {\n",
              "      display:flex;\n",
              "      flex-wrap:wrap;\n",
              "      gap: 12px;\n",
              "    }\n",
              "\n",
              "    .colab-df-convert {\n",
              "      background-color: #E8F0FE;\n",
              "      border: none;\n",
              "      border-radius: 50%;\n",
              "      cursor: pointer;\n",
              "      display: none;\n",
              "      fill: #1967D2;\n",
              "      height: 32px;\n",
              "      padding: 0 0 0 0;\n",
              "      width: 32px;\n",
              "    }\n",
              "\n",
              "    .colab-df-convert:hover {\n",
              "      background-color: #E2EBFA;\n",
              "      box-shadow: 0px 1px 2px rgba(60, 64, 67, 0.3), 0px 1px 3px 1px rgba(60, 64, 67, 0.15);\n",
              "      fill: #174EA6;\n",
              "    }\n",
              "\n",
              "    [theme=dark] .colab-df-convert {\n",
              "      background-color: #3B4455;\n",
              "      fill: #D2E3FC;\n",
              "    }\n",
              "\n",
              "    [theme=dark] .colab-df-convert:hover {\n",
              "      background-color: #434B5C;\n",
              "      box-shadow: 0px 1px 3px 1px rgba(0, 0, 0, 0.15);\n",
              "      filter: drop-shadow(0px 1px 2px rgba(0, 0, 0, 0.3));\n",
              "      fill: #FFFFFF;\n",
              "    }\n",
              "  </style>\n",
              "\n",
              "      <script>\n",
              "        const buttonEl =\n",
              "          document.querySelector('#df-6fe59c1a-ab8b-49c2-b378-9af296962478 button.colab-df-convert');\n",
              "        buttonEl.style.display =\n",
              "          google.colab.kernel.accessAllowed ? 'block' : 'none';\n",
              "\n",
              "        async function convertToInteractive(key) {\n",
              "          const element = document.querySelector('#df-6fe59c1a-ab8b-49c2-b378-9af296962478');\n",
              "          const dataTable =\n",
              "            await google.colab.kernel.invokeFunction('convertToInteractive',\n",
              "                                                     [key], {});\n",
              "          if (!dataTable) return;\n",
              "\n",
              "          const docLinkHtml = 'Like what you see? Visit the ' +\n",
              "            '<a target=\"_blank\" href=https://colab.research.google.com/notebooks/data_table.ipynb>data table notebook</a>'\n",
              "            + ' to learn more about interactive tables.';\n",
              "          element.innerHTML = '';\n",
              "          dataTable['output_type'] = 'display_data';\n",
              "          await google.colab.output.renderOutput(dataTable, element);\n",
              "          const docLink = document.createElement('div');\n",
              "          docLink.innerHTML = docLinkHtml;\n",
              "          element.appendChild(docLink);\n",
              "        }\n",
              "      </script>\n",
              "    </div>\n",
              "  </div>\n"
            ]
          },
          "metadata": {},
          "execution_count": 41
        }
      ],
      "source": [
        "df_lsa=pd.read_pickle('/content/datos/data_frame_4K.pkl')\n",
        "df_lsa.index = range(len(df_lsa.index))\n",
        "print(df_lsa.shape)\n",
        "df_lsa.head()"
      ]
    },
    {
      "cell_type": "code",
      "execution_count": 42,
      "metadata": {
        "id": "dG_d4EfruXLz"
      },
      "outputs": [],
      "source": [
        "from sklearn.feature_extraction import DictVectorizer\n",
        "from collections import Counter, OrderedDict\n",
        "\n",
        "def bow_(docs):\n",
        "    v = DictVectorizer(sparse=False)\n",
        "    X = v.fit_transform(docs)\n",
        "    return X,v\n",
        "\n",
        "docs = df_lsa.Conteos.tolist()\n",
        "X,vocab_ = bow_(docs)"
      ]
    },
    {
      "cell_type": "code",
      "execution_count": 43,
      "metadata": {
        "id": "ffv5D6C9uXLz"
      },
      "outputs": [],
      "source": [
        "from sklearn.feature_extraction.text import TfidfVectorizer\n",
        "from sklearn.decomposition import TruncatedSVD\n",
        "\n",
        "q=300  #Elegimos usar q componentes\n",
        "svd = TruncatedSVD(n_components=q, n_iter=7, random_state=42)\n",
        "\n",
        "vectorizer = TfidfVectorizer(vocabulary=vocab_.vocabulary_)\n",
        "\n",
        "corpus = df_lsa.Texto.tolist()\n",
        "D_tfidf = vectorizer.fit_transform(corpus)"
      ]
    },
    {
      "cell_type": "code",
      "execution_count": 44,
      "metadata": {
        "id": "8mg1471wuXLz",
        "outputId": "bfb0391a-b78c-4f38-9aeb-e66750071dd5",
        "colab": {
          "base_uri": "https://localhost:8080/",
          "height": 317
        }
      },
      "outputs": [
        {
          "output_type": "stream",
          "name": "stdout",
          "text": [
            "(2117, 301)\n"
          ]
        },
        {
          "output_type": "execute_result",
          "data": {
            "text/plain": [
              "    doc_id         0         1         2         3         4         5  \\\n",
              "0  1886236  0.144606 -0.035454 -0.027174 -0.065392 -0.050102  0.021952   \n",
              "1  1878783  0.196944 -0.070551  0.023415 -0.087179 -0.036223 -0.043035   \n",
              "2  1882951  0.135209 -0.019949 -0.033558  0.045555  0.009666  0.004139   \n",
              "3  1888749  0.148258 -0.016088 -0.044650  0.059701  0.005284  0.005766   \n",
              "4  1880333  0.170300 -0.014052 -0.078178  0.082517  0.066849 -0.036881   \n",
              "\n",
              "          6         7         8  ...       290       291       292       293  \\\n",
              "0  0.025118 -0.015155 -0.034800  ... -0.013656  0.003250 -0.004791  0.004599   \n",
              "1 -0.032487 -0.016263  0.020750  ... -0.021022 -0.005959  0.036866 -0.001384   \n",
              "2 -0.021153 -0.009239 -0.020196  ...  0.057586 -0.034646 -0.010839  0.003405   \n",
              "3 -0.021263 -0.018914 -0.047110  ... -0.025677 -0.045258  0.000743  0.003936   \n",
              "4  0.044592 -0.020503  0.012222  ... -0.026260  0.015500 -0.063230  0.040825   \n",
              "\n",
              "        294       295       296       297       298       299  \n",
              "0  0.007188  0.015899  0.009976 -0.011148  0.013769 -0.018902  \n",
              "1  0.000327 -0.010311 -0.027345  0.003721  0.019572  0.007920  \n",
              "2  0.001095  0.014104 -0.017087 -0.002599 -0.031880  0.004770  \n",
              "3 -0.005705  0.007806  0.012971 -0.023004  0.037212  0.037271  \n",
              "4 -0.007310 -0.004958  0.018011  0.022304 -0.017743  0.022114  \n",
              "\n",
              "[5 rows x 301 columns]"
            ],
            "text/html": [
              "\n",
              "\n",
              "  <div id=\"df-b74cc583-9f0b-4cab-9422-69b8ebdaee18\">\n",
              "    <div class=\"colab-df-container\">\n",
              "      <div>\n",
              "<style scoped>\n",
              "    .dataframe tbody tr th:only-of-type {\n",
              "        vertical-align: middle;\n",
              "    }\n",
              "\n",
              "    .dataframe tbody tr th {\n",
              "        vertical-align: top;\n",
              "    }\n",
              "\n",
              "    .dataframe thead th {\n",
              "        text-align: right;\n",
              "    }\n",
              "</style>\n",
              "<table border=\"1\" class=\"dataframe\">\n",
              "  <thead>\n",
              "    <tr style=\"text-align: right;\">\n",
              "      <th></th>\n",
              "      <th>doc_id</th>\n",
              "      <th>0</th>\n",
              "      <th>1</th>\n",
              "      <th>2</th>\n",
              "      <th>3</th>\n",
              "      <th>4</th>\n",
              "      <th>5</th>\n",
              "      <th>6</th>\n",
              "      <th>7</th>\n",
              "      <th>8</th>\n",
              "      <th>...</th>\n",
              "      <th>290</th>\n",
              "      <th>291</th>\n",
              "      <th>292</th>\n",
              "      <th>293</th>\n",
              "      <th>294</th>\n",
              "      <th>295</th>\n",
              "      <th>296</th>\n",
              "      <th>297</th>\n",
              "      <th>298</th>\n",
              "      <th>299</th>\n",
              "    </tr>\n",
              "  </thead>\n",
              "  <tbody>\n",
              "    <tr>\n",
              "      <th>0</th>\n",
              "      <td>1886236</td>\n",
              "      <td>0.144606</td>\n",
              "      <td>-0.035454</td>\n",
              "      <td>-0.027174</td>\n",
              "      <td>-0.065392</td>\n",
              "      <td>-0.050102</td>\n",
              "      <td>0.021952</td>\n",
              "      <td>0.025118</td>\n",
              "      <td>-0.015155</td>\n",
              "      <td>-0.034800</td>\n",
              "      <td>...</td>\n",
              "      <td>-0.013656</td>\n",
              "      <td>0.003250</td>\n",
              "      <td>-0.004791</td>\n",
              "      <td>0.004599</td>\n",
              "      <td>0.007188</td>\n",
              "      <td>0.015899</td>\n",
              "      <td>0.009976</td>\n",
              "      <td>-0.011148</td>\n",
              "      <td>0.013769</td>\n",
              "      <td>-0.018902</td>\n",
              "    </tr>\n",
              "    <tr>\n",
              "      <th>1</th>\n",
              "      <td>1878783</td>\n",
              "      <td>0.196944</td>\n",
              "      <td>-0.070551</td>\n",
              "      <td>0.023415</td>\n",
              "      <td>-0.087179</td>\n",
              "      <td>-0.036223</td>\n",
              "      <td>-0.043035</td>\n",
              "      <td>-0.032487</td>\n",
              "      <td>-0.016263</td>\n",
              "      <td>0.020750</td>\n",
              "      <td>...</td>\n",
              "      <td>-0.021022</td>\n",
              "      <td>-0.005959</td>\n",
              "      <td>0.036866</td>\n",
              "      <td>-0.001384</td>\n",
              "      <td>0.000327</td>\n",
              "      <td>-0.010311</td>\n",
              "      <td>-0.027345</td>\n",
              "      <td>0.003721</td>\n",
              "      <td>0.019572</td>\n",
              "      <td>0.007920</td>\n",
              "    </tr>\n",
              "    <tr>\n",
              "      <th>2</th>\n",
              "      <td>1882951</td>\n",
              "      <td>0.135209</td>\n",
              "      <td>-0.019949</td>\n",
              "      <td>-0.033558</td>\n",
              "      <td>0.045555</td>\n",
              "      <td>0.009666</td>\n",
              "      <td>0.004139</td>\n",
              "      <td>-0.021153</td>\n",
              "      <td>-0.009239</td>\n",
              "      <td>-0.020196</td>\n",
              "      <td>...</td>\n",
              "      <td>0.057586</td>\n",
              "      <td>-0.034646</td>\n",
              "      <td>-0.010839</td>\n",
              "      <td>0.003405</td>\n",
              "      <td>0.001095</td>\n",
              "      <td>0.014104</td>\n",
              "      <td>-0.017087</td>\n",
              "      <td>-0.002599</td>\n",
              "      <td>-0.031880</td>\n",
              "      <td>0.004770</td>\n",
              "    </tr>\n",
              "    <tr>\n",
              "      <th>3</th>\n",
              "      <td>1888749</td>\n",
              "      <td>0.148258</td>\n",
              "      <td>-0.016088</td>\n",
              "      <td>-0.044650</td>\n",
              "      <td>0.059701</td>\n",
              "      <td>0.005284</td>\n",
              "      <td>0.005766</td>\n",
              "      <td>-0.021263</td>\n",
              "      <td>-0.018914</td>\n",
              "      <td>-0.047110</td>\n",
              "      <td>...</td>\n",
              "      <td>-0.025677</td>\n",
              "      <td>-0.045258</td>\n",
              "      <td>0.000743</td>\n",
              "      <td>0.003936</td>\n",
              "      <td>-0.005705</td>\n",
              "      <td>0.007806</td>\n",
              "      <td>0.012971</td>\n",
              "      <td>-0.023004</td>\n",
              "      <td>0.037212</td>\n",
              "      <td>0.037271</td>\n",
              "    </tr>\n",
              "    <tr>\n",
              "      <th>4</th>\n",
              "      <td>1880333</td>\n",
              "      <td>0.170300</td>\n",
              "      <td>-0.014052</td>\n",
              "      <td>-0.078178</td>\n",
              "      <td>0.082517</td>\n",
              "      <td>0.066849</td>\n",
              "      <td>-0.036881</td>\n",
              "      <td>0.044592</td>\n",
              "      <td>-0.020503</td>\n",
              "      <td>0.012222</td>\n",
              "      <td>...</td>\n",
              "      <td>-0.026260</td>\n",
              "      <td>0.015500</td>\n",
              "      <td>-0.063230</td>\n",
              "      <td>0.040825</td>\n",
              "      <td>-0.007310</td>\n",
              "      <td>-0.004958</td>\n",
              "      <td>0.018011</td>\n",
              "      <td>0.022304</td>\n",
              "      <td>-0.017743</td>\n",
              "      <td>0.022114</td>\n",
              "    </tr>\n",
              "  </tbody>\n",
              "</table>\n",
              "<p>5 rows × 301 columns</p>\n",
              "</div>\n",
              "      <button class=\"colab-df-convert\" onclick=\"convertToInteractive('df-b74cc583-9f0b-4cab-9422-69b8ebdaee18')\"\n",
              "              title=\"Convert this dataframe to an interactive table.\"\n",
              "              style=\"display:none;\">\n",
              "\n",
              "  <svg xmlns=\"http://www.w3.org/2000/svg\" height=\"24px\"viewBox=\"0 0 24 24\"\n",
              "       width=\"24px\">\n",
              "    <path d=\"M0 0h24v24H0V0z\" fill=\"none\"/>\n",
              "    <path d=\"M18.56 5.44l.94 2.06.94-2.06 2.06-.94-2.06-.94-.94-2.06-.94 2.06-2.06.94zm-11 1L8.5 8.5l.94-2.06 2.06-.94-2.06-.94L8.5 2.5l-.94 2.06-2.06.94zm10 10l.94 2.06.94-2.06 2.06-.94-2.06-.94-.94-2.06-.94 2.06-2.06.94z\"/><path d=\"M17.41 7.96l-1.37-1.37c-.4-.4-.92-.59-1.43-.59-.52 0-1.04.2-1.43.59L10.3 9.45l-7.72 7.72c-.78.78-.78 2.05 0 2.83L4 21.41c.39.39.9.59 1.41.59.51 0 1.02-.2 1.41-.59l7.78-7.78 2.81-2.81c.8-.78.8-2.07 0-2.86zM5.41 20L4 18.59l7.72-7.72 1.47 1.35L5.41 20z\"/>\n",
              "  </svg>\n",
              "      </button>\n",
              "\n",
              "\n",
              "\n",
              "    <div id=\"df-e921d969-1250-4cde-97ed-c56996904c02\">\n",
              "      <button class=\"colab-df-quickchart\" onclick=\"quickchart('df-e921d969-1250-4cde-97ed-c56996904c02')\"\n",
              "              title=\"Suggest charts.\"\n",
              "              style=\"display:none;\">\n",
              "\n",
              "<svg xmlns=\"http://www.w3.org/2000/svg\" height=\"24px\"viewBox=\"0 0 24 24\"\n",
              "     width=\"24px\">\n",
              "    <g>\n",
              "        <path d=\"M19 3H5c-1.1 0-2 .9-2 2v14c0 1.1.9 2 2 2h14c1.1 0 2-.9 2-2V5c0-1.1-.9-2-2-2zM9 17H7v-7h2v7zm4 0h-2V7h2v10zm4 0h-2v-4h2v4z\"/>\n",
              "    </g>\n",
              "</svg>\n",
              "      </button>\n",
              "    </div>\n",
              "\n",
              "<style>\n",
              "  .colab-df-quickchart {\n",
              "    background-color: #E8F0FE;\n",
              "    border: none;\n",
              "    border-radius: 50%;\n",
              "    cursor: pointer;\n",
              "    display: none;\n",
              "    fill: #1967D2;\n",
              "    height: 32px;\n",
              "    padding: 0 0 0 0;\n",
              "    width: 32px;\n",
              "  }\n",
              "\n",
              "  .colab-df-quickchart:hover {\n",
              "    background-color: #E2EBFA;\n",
              "    box-shadow: 0px 1px 2px rgba(60, 64, 67, 0.3), 0px 1px 3px 1px rgba(60, 64, 67, 0.15);\n",
              "    fill: #174EA6;\n",
              "  }\n",
              "\n",
              "  [theme=dark] .colab-df-quickchart {\n",
              "    background-color: #3B4455;\n",
              "    fill: #D2E3FC;\n",
              "  }\n",
              "\n",
              "  [theme=dark] .colab-df-quickchart:hover {\n",
              "    background-color: #434B5C;\n",
              "    box-shadow: 0px 1px 3px 1px rgba(0, 0, 0, 0.15);\n",
              "    filter: drop-shadow(0px 1px 2px rgba(0, 0, 0, 0.3));\n",
              "    fill: #FFFFFF;\n",
              "  }\n",
              "</style>\n",
              "\n",
              "    <script>\n",
              "      async function quickchart(key) {\n",
              "        const containerElement = document.querySelector('#' + key);\n",
              "        const charts = await google.colab.kernel.invokeFunction(\n",
              "            'suggestCharts', [key], {});\n",
              "      }\n",
              "    </script>\n",
              "\n",
              "      <script>\n",
              "\n",
              "function displayQuickchartButton(domScope) {\n",
              "  let quickchartButtonEl =\n",
              "    domScope.querySelector('#df-e921d969-1250-4cde-97ed-c56996904c02 button.colab-df-quickchart');\n",
              "  quickchartButtonEl.style.display =\n",
              "    google.colab.kernel.accessAllowed ? 'block' : 'none';\n",
              "}\n",
              "\n",
              "        displayQuickchartButton(document);\n",
              "      </script>\n",
              "      <style>\n",
              "    .colab-df-container {\n",
              "      display:flex;\n",
              "      flex-wrap:wrap;\n",
              "      gap: 12px;\n",
              "    }\n",
              "\n",
              "    .colab-df-convert {\n",
              "      background-color: #E8F0FE;\n",
              "      border: none;\n",
              "      border-radius: 50%;\n",
              "      cursor: pointer;\n",
              "      display: none;\n",
              "      fill: #1967D2;\n",
              "      height: 32px;\n",
              "      padding: 0 0 0 0;\n",
              "      width: 32px;\n",
              "    }\n",
              "\n",
              "    .colab-df-convert:hover {\n",
              "      background-color: #E2EBFA;\n",
              "      box-shadow: 0px 1px 2px rgba(60, 64, 67, 0.3), 0px 1px 3px 1px rgba(60, 64, 67, 0.15);\n",
              "      fill: #174EA6;\n",
              "    }\n",
              "\n",
              "    [theme=dark] .colab-df-convert {\n",
              "      background-color: #3B4455;\n",
              "      fill: #D2E3FC;\n",
              "    }\n",
              "\n",
              "    [theme=dark] .colab-df-convert:hover {\n",
              "      background-color: #434B5C;\n",
              "      box-shadow: 0px 1px 3px 1px rgba(0, 0, 0, 0.15);\n",
              "      filter: drop-shadow(0px 1px 2px rgba(0, 0, 0, 0.3));\n",
              "      fill: #FFFFFF;\n",
              "    }\n",
              "  </style>\n",
              "\n",
              "      <script>\n",
              "        const buttonEl =\n",
              "          document.querySelector('#df-b74cc583-9f0b-4cab-9422-69b8ebdaee18 button.colab-df-convert');\n",
              "        buttonEl.style.display =\n",
              "          google.colab.kernel.accessAllowed ? 'block' : 'none';\n",
              "\n",
              "        async function convertToInteractive(key) {\n",
              "          const element = document.querySelector('#df-b74cc583-9f0b-4cab-9422-69b8ebdaee18');\n",
              "          const dataTable =\n",
              "            await google.colab.kernel.invokeFunction('convertToInteractive',\n",
              "                                                     [key], {});\n",
              "          if (!dataTable) return;\n",
              "\n",
              "          const docLinkHtml = 'Like what you see? Visit the ' +\n",
              "            '<a target=\"_blank\" href=https://colab.research.google.com/notebooks/data_table.ipynb>data table notebook</a>'\n",
              "            + ' to learn more about interactive tables.';\n",
              "          element.innerHTML = '';\n",
              "          dataTable['output_type'] = 'display_data';\n",
              "          await google.colab.output.renderOutput(dataTable, element);\n",
              "          const docLink = document.createElement('div');\n",
              "          docLink.innerHTML = docLinkHtml;\n",
              "          element.appendChild(docLink);\n",
              "        }\n",
              "      </script>\n",
              "    </div>\n",
              "  </div>\n"
            ]
          },
          "metadata": {},
          "execution_count": 44
        }
      ],
      "source": [
        "dlsa=svd.fit_transform(D_tfidf)\n",
        "dlsa=wi.get_dataFrame(dlsa,df_lsa)\n",
        "print(dlsa.shape)\n",
        "dlsa.head()"
      ]
    },
    {
      "cell_type": "code",
      "execution_count": 45,
      "metadata": {
        "id": "pTLMgC30uXLz",
        "outputId": "2a688df5-8e87-4ccb-ca21-d2694e4ed3b2",
        "colab": {
          "base_uri": "https://localhost:8080/",
          "height": 504
        }
      },
      "outputs": [
        {
          "output_type": "execute_result",
          "data": {
            "text/plain": [
              "<Axes: title={'center': 'Distribucion de Varianzas'}, xlabel='Componente', ylabel='Proporción'>"
            ]
          },
          "metadata": {},
          "execution_count": 45
        },
        {
          "output_type": "display_data",
          "data": {
            "text/plain": [
              "<Figure size 800x500 with 1 Axes>"
            ],
            "image/png": "[encoded data removed]"
          },
          "metadata": {}
        }
      ],
      "source": [
        "svd_vr=svd.explained_variance_ratio_\n",
        "wi.distribucion_vr(svd_vr)"
      ]
    },
    {
      "cell_type": "code",
      "execution_count": 46,
      "metadata": {
        "id": "zW8M2VPOuXLz",
        "outputId": "c1eccb54-56e8-451d-fd1f-982ee31dc3c5",
        "colab": {
          "base_uri": "https://localhost:8080/",
          "height": 317
        }
      },
      "outputs": [
        {
          "output_type": "stream",
          "name": "stdout",
          "text": [
            "(2117, 301)\n"
          ]
        },
        {
          "output_type": "execute_result",
          "data": {
            "text/plain": [
              "    doc_id         0         1         2         3         4         5  \\\n",
              "0  1886236  0.144606 -0.035454 -0.027174 -0.065392 -0.050102  0.021952   \n",
              "1  1878783  0.196944 -0.070551  0.023415 -0.087179 -0.036223 -0.043035   \n",
              "2  1882951  0.135209 -0.019949 -0.033558  0.045555  0.009666  0.004139   \n",
              "3  1888749  0.148258 -0.016088 -0.044650  0.059701  0.005284  0.005766   \n",
              "4  1880333  0.170300 -0.014052 -0.078178  0.082517  0.066849 -0.036881   \n",
              "\n",
              "          6         7         8  ...       290       291       292       293  \\\n",
              "0  0.025118 -0.015155 -0.034800  ... -0.013656  0.003250 -0.004791  0.004599   \n",
              "1 -0.032487 -0.016263  0.020750  ... -0.021022 -0.005959  0.036866 -0.001384   \n",
              "2 -0.021153 -0.009239 -0.020196  ...  0.057586 -0.034646 -0.010839  0.003405   \n",
              "3 -0.021263 -0.018914 -0.047110  ... -0.025677 -0.045258  0.000743  0.003936   \n",
              "4  0.044592 -0.020503  0.012222  ... -0.026260  0.015500 -0.063230  0.040825   \n",
              "\n",
              "        294       295       296       297       298       299  \n",
              "0  0.007188  0.015899  0.009976 -0.011148  0.013769 -0.018902  \n",
              "1  0.000327 -0.010311 -0.027345  0.003721  0.019572  0.007920  \n",
              "2  0.001095  0.014104 -0.017087 -0.002599 -0.031880  0.004770  \n",
              "3 -0.005705  0.007806  0.012971 -0.023004  0.037212  0.037271  \n",
              "4 -0.007310 -0.004958  0.018011  0.022304 -0.017743  0.022114  \n",
              "\n",
              "[5 rows x 301 columns]"
            ],
            "text/html": [
              "\n",
              "\n",
              "  <div id=\"df-0ffda3ed-902c-4142-a184-d1efcf2a821e\">\n",
              "    <div class=\"colab-df-container\">\n",
              "      <div>\n",
              "<style scoped>\n",
              "    .dataframe tbody tr th:only-of-type {\n",
              "        vertical-align: middle;\n",
              "    }\n",
              "\n",
              "    .dataframe tbody tr th {\n",
              "        vertical-align: top;\n",
              "    }\n",
              "\n",
              "    .dataframe thead th {\n",
              "        text-align: right;\n",
              "    }\n",
              "</style>\n",
              "<table border=\"1\" class=\"dataframe\">\n",
              "  <thead>\n",
              "    <tr style=\"text-align: right;\">\n",
              "      <th></th>\n",
              "      <th>doc_id</th>\n",
              "      <th>0</th>\n",
              "      <th>1</th>\n",
              "      <th>2</th>\n",
              "      <th>3</th>\n",
              "      <th>4</th>\n",
              "      <th>5</th>\n",
              "      <th>6</th>\n",
              "      <th>7</th>\n",
              "      <th>8</th>\n",
              "      <th>...</th>\n",
              "      <th>290</th>\n",
              "      <th>291</th>\n",
              "      <th>292</th>\n",
              "      <th>293</th>\n",
              "      <th>294</th>\n",
              "      <th>295</th>\n",
              "      <th>296</th>\n",
              "      <th>297</th>\n",
              "      <th>298</th>\n",
              "      <th>299</th>\n",
              "    </tr>\n",
              "  </thead>\n",
              "  <tbody>\n",
              "    <tr>\n",
              "      <th>0</th>\n",
              "      <td>1886236</td>\n",
              "      <td>0.144606</td>\n",
              "      <td>-0.035454</td>\n",
              "      <td>-0.027174</td>\n",
              "      <td>-0.065392</td>\n",
              "      <td>-0.050102</td>\n",
              "      <td>0.021952</td>\n",
              "      <td>0.025118</td>\n",
              "      <td>-0.015155</td>\n",
              "      <td>-0.034800</td>\n",
              "      <td>...</td>\n",
              "      <td>-0.013656</td>\n",
              "      <td>0.003250</td>\n",
              "      <td>-0.004791</td>\n",
              "      <td>0.004599</td>\n",
              "      <td>0.007188</td>\n",
              "      <td>0.015899</td>\n",
              "      <td>0.009976</td>\n",
              "      <td>-0.011148</td>\n",
              "      <td>0.013769</td>\n",
              "      <td>-0.018902</td>\n",
              "    </tr>\n",
              "    <tr>\n",
              "      <th>1</th>\n",
              "      <td>1878783</td>\n",
              "      <td>0.196944</td>\n",
              "      <td>-0.070551</td>\n",
              "      <td>0.023415</td>\n",
              "      <td>-0.087179</td>\n",
              "      <td>-0.036223</td>\n",
              "      <td>-0.043035</td>\n",
              "      <td>-0.032487</td>\n",
              "      <td>-0.016263</td>\n",
              "      <td>0.020750</td>\n",
              "      <td>...</td>\n",
              "      <td>-0.021022</td>\n",
              "      <td>-0.005959</td>\n",
              "      <td>0.036866</td>\n",
              "      <td>-0.001384</td>\n",
              "      <td>0.000327</td>\n",
              "      <td>-0.010311</td>\n",
              "      <td>-0.027345</td>\n",
              "      <td>0.003721</td>\n",
              "      <td>0.019572</td>\n",
              "      <td>0.007920</td>\n",
              "    </tr>\n",
              "    <tr>\n",
              "      <th>2</th>\n",
              "      <td>1882951</td>\n",
              "      <td>0.135209</td>\n",
              "      <td>-0.019949</td>\n",
              "      <td>-0.033558</td>\n",
              "      <td>0.045555</td>\n",
              "      <td>0.009666</td>\n",
              "      <td>0.004139</td>\n",
              "      <td>-0.021153</td>\n",
              "      <td>-0.009239</td>\n",
              "      <td>-0.020196</td>\n",
              "      <td>...</td>\n",
              "      <td>0.057586</td>\n",
              "      <td>-0.034646</td>\n",
              "      <td>-0.010839</td>\n",
              "      <td>0.003405</td>\n",
              "      <td>0.001095</td>\n",
              "      <td>0.014104</td>\n",
              "      <td>-0.017087</td>\n",
              "      <td>-0.002599</td>\n",
              "      <td>-0.031880</td>\n",
              "      <td>0.004770</td>\n",
              "    </tr>\n",
              "    <tr>\n",
              "      <th>3</th>\n",
              "      <td>1888749</td>\n",
              "      <td>0.148258</td>\n",
              "      <td>-0.016088</td>\n",
              "      <td>-0.044650</td>\n",
              "      <td>0.059701</td>\n",
              "      <td>0.005284</td>\n",
              "      <td>0.005766</td>\n",
              "      <td>-0.021263</td>\n",
              "      <td>-0.018914</td>\n",
              "      <td>-0.047110</td>\n",
              "      <td>...</td>\n",
              "      <td>-0.025677</td>\n",
              "      <td>-0.045258</td>\n",
              "      <td>0.000743</td>\n",
              "      <td>0.003936</td>\n",
              "      <td>-0.005705</td>\n",
              "      <td>0.007806</td>\n",
              "      <td>0.012971</td>\n",
              "      <td>-0.023004</td>\n",
              "      <td>0.037212</td>\n",
              "      <td>0.037271</td>\n",
              "    </tr>\n",
              "    <tr>\n",
              "      <th>4</th>\n",
              "      <td>1880333</td>\n",
              "      <td>0.170300</td>\n",
              "      <td>-0.014052</td>\n",
              "      <td>-0.078178</td>\n",
              "      <td>0.082517</td>\n",
              "      <td>0.066849</td>\n",
              "      <td>-0.036881</td>\n",
              "      <td>0.044592</td>\n",
              "      <td>-0.020503</td>\n",
              "      <td>0.012222</td>\n",
              "      <td>...</td>\n",
              "      <td>-0.026260</td>\n",
              "      <td>0.015500</td>\n",
              "      <td>-0.063230</td>\n",
              "      <td>0.040825</td>\n",
              "      <td>-0.007310</td>\n",
              "      <td>-0.004958</td>\n",
              "      <td>0.018011</td>\n",
              "      <td>0.022304</td>\n",
              "      <td>-0.017743</td>\n",
              "      <td>0.022114</td>\n",
              "    </tr>\n",
              "  </tbody>\n",
              "</table>\n",
              "<p>5 rows × 301 columns</p>\n",
              "</div>\n",
              "      <button class=\"colab-df-convert\" onclick=\"convertToInteractive('df-0ffda3ed-902c-4142-a184-d1efcf2a821e')\"\n",
              "              title=\"Convert this dataframe to an interactive table.\"\n",
              "              style=\"display:none;\">\n",
              "\n",
              "  <svg xmlns=\"http://www.w3.org/2000/svg\" height=\"24px\"viewBox=\"0 0 24 24\"\n",
              "       width=\"24px\">\n",
              "    <path d=\"M0 0h24v24H0V0z\" fill=\"none\"/>\n",
              "    <path d=\"M18.56 5.44l.94 2.06.94-2.06 2.06-.94-2.06-.94-.94-2.06-.94 2.06-2.06.94zm-11 1L8.5 8.5l.94-2.06 2.06-.94-2.06-.94L8.5 2.5l-.94 2.06-2.06.94zm10 10l.94 2.06.94-2.06 2.06-.94-2.06-.94-.94-2.06-.94 2.06-2.06.94z\"/><path d=\"M17.41 7.96l-1.37-1.37c-.4-.4-.92-.59-1.43-.59-.52 0-1.04.2-1.43.59L10.3 9.45l-7.72 7.72c-.78.78-.78 2.05 0 2.83L4 21.41c.39.39.9.59 1.41.59.51 0 1.02-.2 1.41-.59l7.78-7.78 2.81-2.81c.8-.78.8-2.07 0-2.86zM5.41 20L4 18.59l7.72-7.72 1.47 1.35L5.41 20z\"/>\n",
              "  </svg>\n",
              "      </button>\n",
              "\n",
              "\n",
              "\n",
              "    <div id=\"df-b63cd2e1-33ed-44a1-93ad-ee00455cdad6\">\n",
              "      <button class=\"colab-df-quickchart\" onclick=\"quickchart('df-b63cd2e1-33ed-44a1-93ad-ee00455cdad6')\"\n",
              "              title=\"Suggest charts.\"\n",
              "              style=\"display:none;\">\n",
              "\n",
              "<svg xmlns=\"http://www.w3.org/2000/svg\" height=\"24px\"viewBox=\"0 0 24 24\"\n",
              "     width=\"24px\">\n",
              "    <g>\n",
              "        <path d=\"M19 3H5c-1.1 0-2 .9-2 2v14c0 1.1.9 2 2 2h14c1.1 0 2-.9 2-2V5c0-1.1-.9-2-2-2zM9 17H7v-7h2v7zm4 0h-2V7h2v10zm4 0h-2v-4h2v4z\"/>\n",
              "    </g>\n",
              "</svg>\n",
              "      </button>\n",
              "    </div>\n",
              "\n",
              "<style>\n",
              "  .colab-df-quickchart {\n",
              "    background-color: #E8F0FE;\n",
              "    border: none;\n",
              "    border-radius: 50%;\n",
              "    cursor: pointer;\n",
              "    display: none;\n",
              "    fill: #1967D2;\n",
              "    height: 32px;\n",
              "    padding: 0 0 0 0;\n",
              "    width: 32px;\n",
              "  }\n",
              "\n",
              "  .colab-df-quickchart:hover {\n",
              "    background-color: #E2EBFA;\n",
              "    box-shadow: 0px 1px 2px rgba(60, 64, 67, 0.3), 0px 1px 3px 1px rgba(60, 64, 67, 0.15);\n",
              "    fill: #174EA6;\n",
              "  }\n",
              "\n",
              "  [theme=dark] .colab-df-quickchart {\n",
              "    background-color: #3B4455;\n",
              "    fill: #D2E3FC;\n",
              "  }\n",
              "\n",
              "  [theme=dark] .colab-df-quickchart:hover {\n",
              "    background-color: #434B5C;\n",
              "    box-shadow: 0px 1px 3px 1px rgba(0, 0, 0, 0.15);\n",
              "    filter: drop-shadow(0px 1px 2px rgba(0, 0, 0, 0.3));\n",
              "    fill: #FFFFFF;\n",
              "  }\n",
              "</style>\n",
              "\n",
              "    <script>\n",
              "      async function quickchart(key) {\n",
              "        const containerElement = document.querySelector('#' + key);\n",
              "        const charts = await google.colab.kernel.invokeFunction(\n",
              "            'suggestCharts', [key], {});\n",
              "      }\n",
              "    </script>\n",
              "\n",
              "      <script>\n",
              "\n",
              "function displayQuickchartButton(domScope) {\n",
              "  let quickchartButtonEl =\n",
              "    domScope.querySelector('#df-b63cd2e1-33ed-44a1-93ad-ee00455cdad6 button.colab-df-quickchart');\n",
              "  quickchartButtonEl.style.display =\n",
              "    google.colab.kernel.accessAllowed ? 'block' : 'none';\n",
              "}\n",
              "\n",
              "        displayQuickchartButton(document);\n",
              "      </script>\n",
              "      <style>\n",
              "    .colab-df-container {\n",
              "      display:flex;\n",
              "      flex-wrap:wrap;\n",
              "      gap: 12px;\n",
              "    }\n",
              "\n",
              "    .colab-df-convert {\n",
              "      background-color: #E8F0FE;\n",
              "      border: none;\n",
              "      border-radius: 50%;\n",
              "      cursor: pointer;\n",
              "      display: none;\n",
              "      fill: #1967D2;\n",
              "      height: 32px;\n",
              "      padding: 0 0 0 0;\n",
              "      width: 32px;\n",
              "    }\n",
              "\n",
              "    .colab-df-convert:hover {\n",
              "      background-color: #E2EBFA;\n",
              "      box-shadow: 0px 1px 2px rgba(60, 64, 67, 0.3), 0px 1px 3px 1px rgba(60, 64, 67, 0.15);\n",
              "      fill: #174EA6;\n",
              "    }\n",
              "\n",
              "    [theme=dark] .colab-df-convert {\n",
              "      background-color: #3B4455;\n",
              "      fill: #D2E3FC;\n",
              "    }\n",
              "\n",
              "    [theme=dark] .colab-df-convert:hover {\n",
              "      background-color: #434B5C;\n",
              "      box-shadow: 0px 1px 3px 1px rgba(0, 0, 0, 0.15);\n",
              "      filter: drop-shadow(0px 1px 2px rgba(0, 0, 0, 0.3));\n",
              "      fill: #FFFFFF;\n",
              "    }\n",
              "  </style>\n",
              "\n",
              "      <script>\n",
              "        const buttonEl =\n",
              "          document.querySelector('#df-0ffda3ed-902c-4142-a184-d1efcf2a821e button.colab-df-convert');\n",
              "        buttonEl.style.display =\n",
              "          google.colab.kernel.accessAllowed ? 'block' : 'none';\n",
              "\n",
              "        async function convertToInteractive(key) {\n",
              "          const element = document.querySelector('#df-0ffda3ed-902c-4142-a184-d1efcf2a821e');\n",
              "          const dataTable =\n",
              "            await google.colab.kernel.invokeFunction('convertToInteractive',\n",
              "                                                     [key], {});\n",
              "          if (!dataTable) return;\n",
              "\n",
              "          const docLinkHtml = 'Like what you see? Visit the ' +\n",
              "            '<a target=\"_blank\" href=https://colab.research.google.com/notebooks/data_table.ipynb>data table notebook</a>'\n",
              "            + ' to learn more about interactive tables.';\n",
              "          element.innerHTML = '';\n",
              "          dataTable['output_type'] = 'display_data';\n",
              "          await google.colab.output.renderOutput(dataTable, element);\n",
              "          const docLink = document.createElement('div');\n",
              "          docLink.innerHTML = docLinkHtml;\n",
              "          element.appendChild(docLink);\n",
              "        }\n",
              "      </script>\n",
              "    </div>\n",
              "  </div>\n"
            ]
          },
          "metadata": {},
          "execution_count": 46
        }
      ],
      "source": [
        "q=300  #debe ser <= 300 o debes correr de nuevo el algoritmo más arriba\n",
        "lsa_rep=wi.get_representativos(dlsa,q)\n",
        "print(lsa_rep.shape)\n",
        "lsa_rep.head()"
      ]
    },
    {
      "cell_type": "code",
      "execution_count": 47,
      "metadata": {
        "id": "PQHrQzgduXL0",
        "outputId": "e41718a3-1cb4-4bae-f632-d0cc17271f51",
        "colab": {
          "base_uri": "https://localhost:8080/",
          "height": 224
        }
      },
      "outputs": [
        {
          "output_type": "stream",
          "name": "stdout",
          "text": [
            "(2117, 2)\n"
          ]
        },
        {
          "output_type": "execute_result",
          "data": {
            "text/plain": [
              "    doc_id                                           Vectores\n",
              "0  1886236  [0.14460559304228576, -0.03545442672860715, -0...\n",
              "1  1878783  [0.19694370369382522, -0.07055061062639882, 0....\n",
              "2  1882951  [0.13520895423487816, -0.01994867984032684, -0...\n",
              "3  1888749  [0.1482577101780329, -0.016088363657322233, -0...\n",
              "4  1880333  [0.17029982503162464, -0.014052109317783432, -..."
            ],
            "text/html": [
              "\n",
              "\n",
              "  <div id=\"df-815cbe60-7589-4851-8ea7-be1595bead74\">\n",
              "    <div class=\"colab-df-container\">\n",
              "      <div>\n",
              "<style scoped>\n",
              "    .dataframe tbody tr th:only-of-type {\n",
              "        vertical-align: middle;\n",
              "    }\n",
              "\n",
              "    .dataframe tbody tr th {\n",
              "        vertical-align: top;\n",
              "    }\n",
              "\n",
              "    .dataframe thead th {\n",
              "        text-align: right;\n",
              "    }\n",
              "</style>\n",
              "<table border=\"1\" class=\"dataframe\">\n",
              "  <thead>\n",
              "    <tr style=\"text-align: right;\">\n",
              "      <th></th>\n",
              "      <th>doc_id</th>\n",
              "      <th>Vectores</th>\n",
              "    </tr>\n",
              "  </thead>\n",
              "  <tbody>\n",
              "    <tr>\n",
              "      <th>0</th>\n",
              "      <td>1886236</td>\n",
              "      <td>[0.14460559304228576, -0.03545442672860715, -0...</td>\n",
              "    </tr>\n",
              "    <tr>\n",
              "      <th>1</th>\n",
              "      <td>1878783</td>\n",
              "      <td>[0.19694370369382522, -0.07055061062639882, 0....</td>\n",
              "    </tr>\n",
              "    <tr>\n",
              "      <th>2</th>\n",
              "      <td>1882951</td>\n",
              "      <td>[0.13520895423487816, -0.01994867984032684, -0...</td>\n",
              "    </tr>\n",
              "    <tr>\n",
              "      <th>3</th>\n",
              "      <td>1888749</td>\n",
              "      <td>[0.1482577101780329, -0.016088363657322233, -0...</td>\n",
              "    </tr>\n",
              "    <tr>\n",
              "      <th>4</th>\n",
              "      <td>1880333</td>\n",
              "      <td>[0.17029982503162464, -0.014052109317783432, -...</td>\n",
              "    </tr>\n",
              "  </tbody>\n",
              "</table>\n",
              "</div>\n",
              "      <button class=\"colab-df-convert\" onclick=\"convertToInteractive('df-815cbe60-7589-4851-8ea7-be1595bead74')\"\n",
              "              title=\"Convert this dataframe to an interactive table.\"\n",
              "              style=\"display:none;\">\n",
              "\n",
              "  <svg xmlns=\"http://www.w3.org/2000/svg\" height=\"24px\"viewBox=\"0 0 24 24\"\n",
              "       width=\"24px\">\n",
              "    <path d=\"M0 0h24v24H0V0z\" fill=\"none\"/>\n",
              "    <path d=\"M18.56 5.44l.94 2.06.94-2.06 2.06-.94-2.06-.94-.94-2.06-.94 2.06-2.06.94zm-11 1L8.5 8.5l.94-2.06 2.06-.94-2.06-.94L8.5 2.5l-.94 2.06-2.06.94zm10 10l.94 2.06.94-2.06 2.06-.94-2.06-.94-.94-2.06-.94 2.06-2.06.94z\"/><path d=\"M17.41 7.96l-1.37-1.37c-.4-.4-.92-.59-1.43-.59-.52 0-1.04.2-1.43.59L10.3 9.45l-7.72 7.72c-.78.78-.78 2.05 0 2.83L4 21.41c.39.39.9.59 1.41.59.51 0 1.02-.2 1.41-.59l7.78-7.78 2.81-2.81c.8-.78.8-2.07 0-2.86zM5.41 20L4 18.59l7.72-7.72 1.47 1.35L5.41 20z\"/>\n",
              "  </svg>\n",
              "      </button>\n",
              "\n",
              "\n",
              "\n",
              "    <div id=\"df-9d6876d6-45be-41ab-a24a-4a6490fc0d79\">\n",
              "      <button class=\"colab-df-quickchart\" onclick=\"quickchart('df-9d6876d6-45be-41ab-a24a-4a6490fc0d79')\"\n",
              "              title=\"Suggest charts.\"\n",
              "              style=\"display:none;\">\n",
              "\n",
              "<svg xmlns=\"http://www.w3.org/2000/svg\" height=\"24px\"viewBox=\"0 0 24 24\"\n",
              "     width=\"24px\">\n",
              "    <g>\n",
              "        <path d=\"M19 3H5c-1.1 0-2 .9-2 2v14c0 1.1.9 2 2 2h14c1.1 0 2-.9 2-2V5c0-1.1-.9-2-2-2zM9 17H7v-7h2v7zm4 0h-2V7h2v10zm4 0h-2v-4h2v4z\"/>\n",
              "    </g>\n",
              "</svg>\n",
              "      </button>\n",
              "    </div>\n",
              "\n",
              "<style>\n",
              "  .colab-df-quickchart {\n",
              "    background-color: #E8F0FE;\n",
              "    border: none;\n",
              "    border-radius: 50%;\n",
              "    cursor: pointer;\n",
              "    display: none;\n",
              "    fill: #1967D2;\n",
              "    height: 32px;\n",
              "    padding: 0 0 0 0;\n",
              "    width: 32px;\n",
              "  }\n",
              "\n",
              "  .colab-df-quickchart:hover {\n",
              "    background-color: #E2EBFA;\n",
              "    box-shadow: 0px 1px 2px rgba(60, 64, 67, 0.3), 0px 1px 3px 1px rgba(60, 64, 67, 0.15);\n",
              "    fill: #174EA6;\n",
              "  }\n",
              "\n",
              "  [theme=dark] .colab-df-quickchart {\n",
              "    background-color: #3B4455;\n",
              "    fill: #D2E3FC;\n",
              "  }\n",
              "\n",
              "  [theme=dark] .colab-df-quickchart:hover {\n",
              "    background-color: #434B5C;\n",
              "    box-shadow: 0px 1px 3px 1px rgba(0, 0, 0, 0.15);\n",
              "    filter: drop-shadow(0px 1px 2px rgba(0, 0, 0, 0.3));\n",
              "    fill: #FFFFFF;\n",
              "  }\n",
              "</style>\n",
              "\n",
              "    <script>\n",
              "      async function quickchart(key) {\n",
              "        const containerElement = document.querySelector('#' + key);\n",
              "        const charts = await google.colab.kernel.invokeFunction(\n",
              "            'suggestCharts', [key], {});\n",
              "      }\n",
              "    </script>\n",
              "\n",
              "      <script>\n",
              "\n",
              "function displayQuickchartButton(domScope) {\n",
              "  let quickchartButtonEl =\n",
              "    domScope.querySelector('#df-9d6876d6-45be-41ab-a24a-4a6490fc0d79 button.colab-df-quickchart');\n",
              "  quickchartButtonEl.style.display =\n",
              "    google.colab.kernel.accessAllowed ? 'block' : 'none';\n",
              "}\n",
              "\n",
              "        displayQuickchartButton(document);\n",
              "      </script>\n",
              "      <style>\n",
              "    .colab-df-container {\n",
              "      display:flex;\n",
              "      flex-wrap:wrap;\n",
              "      gap: 12px;\n",
              "    }\n",
              "\n",
              "    .colab-df-convert {\n",
              "      background-color: #E8F0FE;\n",
              "      border: none;\n",
              "      border-radius: 50%;\n",
              "      cursor: pointer;\n",
              "      display: none;\n",
              "      fill: #1967D2;\n",
              "      height: 32px;\n",
              "      padding: 0 0 0 0;\n",
              "      width: 32px;\n",
              "    }\n",
              "\n",
              "    .colab-df-convert:hover {\n",
              "      background-color: #E2EBFA;\n",
              "      box-shadow: 0px 1px 2px rgba(60, 64, 67, 0.3), 0px 1px 3px 1px rgba(60, 64, 67, 0.15);\n",
              "      fill: #174EA6;\n",
              "    }\n",
              "\n",
              "    [theme=dark] .colab-df-convert {\n",
              "      background-color: #3B4455;\n",
              "      fill: #D2E3FC;\n",
              "    }\n",
              "\n",
              "    [theme=dark] .colab-df-convert:hover {\n",
              "      background-color: #434B5C;\n",
              "      box-shadow: 0px 1px 3px 1px rgba(0, 0, 0, 0.15);\n",
              "      filter: drop-shadow(0px 1px 2px rgba(0, 0, 0, 0.3));\n",
              "      fill: #FFFFFF;\n",
              "    }\n",
              "  </style>\n",
              "\n",
              "      <script>\n",
              "        const buttonEl =\n",
              "          document.querySelector('#df-815cbe60-7589-4851-8ea7-be1595bead74 button.colab-df-convert');\n",
              "        buttonEl.style.display =\n",
              "          google.colab.kernel.accessAllowed ? 'block' : 'none';\n",
              "\n",
              "        async function convertToInteractive(key) {\n",
              "          const element = document.querySelector('#df-815cbe60-7589-4851-8ea7-be1595bead74');\n",
              "          const dataTable =\n",
              "            await google.colab.kernel.invokeFunction('convertToInteractive',\n",
              "                                                     [key], {});\n",
              "          if (!dataTable) return;\n",
              "\n",
              "          const docLinkHtml = 'Like what you see? Visit the ' +\n",
              "            '<a target=\"_blank\" href=https://colab.research.google.com/notebooks/data_table.ipynb>data table notebook</a>'\n",
              "            + ' to learn more about interactive tables.';\n",
              "          element.innerHTML = '';\n",
              "          dataTable['output_type'] = 'display_data';\n",
              "          await google.colab.output.renderOutput(dataTable, element);\n",
              "          const docLink = document.createElement('div');\n",
              "          docLink.innerHTML = docLinkHtml;\n",
              "          element.appendChild(docLink);\n",
              "        }\n",
              "      </script>\n",
              "    </div>\n",
              "  </div>\n"
            ]
          },
          "metadata": {},
          "execution_count": 47
        }
      ],
      "source": [
        "edf_lsa=wi.modela_documentos_rep(lsa_rep)\n",
        "print(edf_lsa.shape)\n",
        "edf_lsa.head()"
      ]
    },
    {
      "cell_type": "code",
      "source": [
        "docus"
      ],
      "metadata": {
        "id": "Fb9uNnb08MOu",
        "outputId": "f9c52125-2771-44d9-c817-8780f9e7de50",
        "colab": {
          "base_uri": "https://localhost:8080/",
          "height": 206
        }
      },
      "execution_count": 53,
      "outputs": [
        {
          "output_type": "execute_result",
          "data": {
            "text/plain": [
              "    doc_id                                              Texto  clase\n",
              "0  1879679  marion jones farquhar noviembre marzo primera ...      0\n",
              "1  1872685  george matthias von martens botánico alemán ma...      0\n",
              "2  1896519  puente libertad ponte della libertà italiano p...      0\n",
              "3  1874136  guillemont población comuna francesa región pi...      0\n",
              "4  1876977  dimensión latina internacional octavo álbum ag...      0"
            ],
            "text/html": [
              "\n",
              "\n",
              "  <div id=\"df-573deed3-7480-4dcf-bcad-a45516619545\">\n",
              "    <div class=\"colab-df-container\">\n",
              "      <div>\n",
              "<style scoped>\n",
              "    .dataframe tbody tr th:only-of-type {\n",
              "        vertical-align: middle;\n",
              "    }\n",
              "\n",
              "    .dataframe tbody tr th {\n",
              "        vertical-align: top;\n",
              "    }\n",
              "\n",
              "    .dataframe thead th {\n",
              "        text-align: right;\n",
              "    }\n",
              "</style>\n",
              "<table border=\"1\" class=\"dataframe\">\n",
              "  <thead>\n",
              "    <tr style=\"text-align: right;\">\n",
              "      <th></th>\n",
              "      <th>doc_id</th>\n",
              "      <th>Texto</th>\n",
              "      <th>clase</th>\n",
              "    </tr>\n",
              "  </thead>\n",
              "  <tbody>\n",
              "    <tr>\n",
              "      <th>0</th>\n",
              "      <td>1879679</td>\n",
              "      <td>marion jones farquhar noviembre marzo primera ...</td>\n",
              "      <td>0</td>\n",
              "    </tr>\n",
              "    <tr>\n",
              "      <th>1</th>\n",
              "      <td>1872685</td>\n",
              "      <td>george matthias von martens botánico alemán ma...</td>\n",
              "      <td>0</td>\n",
              "    </tr>\n",
              "    <tr>\n",
              "      <th>2</th>\n",
              "      <td>1896519</td>\n",
              "      <td>puente libertad ponte della libertà italiano p...</td>\n",
              "      <td>0</td>\n",
              "    </tr>\n",
              "    <tr>\n",
              "      <th>3</th>\n",
              "      <td>1874136</td>\n",
              "      <td>guillemont población comuna francesa región pi...</td>\n",
              "      <td>0</td>\n",
              "    </tr>\n",
              "    <tr>\n",
              "      <th>4</th>\n",
              "      <td>1876977</td>\n",
              "      <td>dimensión latina internacional octavo álbum ag...</td>\n",
              "      <td>0</td>\n",
              "    </tr>\n",
              "  </tbody>\n",
              "</table>\n",
              "</div>\n",
              "      <button class=\"colab-df-convert\" onclick=\"convertToInteractive('df-573deed3-7480-4dcf-bcad-a45516619545')\"\n",
              "              title=\"Convert this dataframe to an interactive table.\"\n",
              "              style=\"display:none;\">\n",
              "\n",
              "  <svg xmlns=\"http://www.w3.org/2000/svg\" height=\"24px\"viewBox=\"0 0 24 24\"\n",
              "       width=\"24px\">\n",
              "    <path d=\"M0 0h24v24H0V0z\" fill=\"none\"/>\n",
              "    <path d=\"M18.56 5.44l.94 2.06.94-2.06 2.06-.94-2.06-.94-.94-2.06-.94 2.06-2.06.94zm-11 1L8.5 8.5l.94-2.06 2.06-.94-2.06-.94L8.5 2.5l-.94 2.06-2.06.94zm10 10l.94 2.06.94-2.06 2.06-.94-2.06-.94-.94-2.06-.94 2.06-2.06.94z\"/><path d=\"M17.41 7.96l-1.37-1.37c-.4-.4-.92-.59-1.43-.59-.52 0-1.04.2-1.43.59L10.3 9.45l-7.72 7.72c-.78.78-.78 2.05 0 2.83L4 21.41c.39.39.9.59 1.41.59.51 0 1.02-.2 1.41-.59l7.78-7.78 2.81-2.81c.8-.78.8-2.07 0-2.86zM5.41 20L4 18.59l7.72-7.72 1.47 1.35L5.41 20z\"/>\n",
              "  </svg>\n",
              "      </button>\n",
              "\n",
              "\n",
              "\n",
              "    <div id=\"df-76906b2d-b0cb-4b33-a100-a9cecf5297fb\">\n",
              "      <button class=\"colab-df-quickchart\" onclick=\"quickchart('df-76906b2d-b0cb-4b33-a100-a9cecf5297fb')\"\n",
              "              title=\"Suggest charts.\"\n",
              "              style=\"display:none;\">\n",
              "\n",
              "<svg xmlns=\"http://www.w3.org/2000/svg\" height=\"24px\"viewBox=\"0 0 24 24\"\n",
              "     width=\"24px\">\n",
              "    <g>\n",
              "        <path d=\"M19 3H5c-1.1 0-2 .9-2 2v14c0 1.1.9 2 2 2h14c1.1 0 2-.9 2-2V5c0-1.1-.9-2-2-2zM9 17H7v-7h2v7zm4 0h-2V7h2v10zm4 0h-2v-4h2v4z\"/>\n",
              "    </g>\n",
              "</svg>\n",
              "      </button>\n",
              "    </div>\n",
              "\n",
              "<style>\n",
              "  .colab-df-quickchart {\n",
              "    background-color: #E8F0FE;\n",
              "    border: none;\n",
              "    border-radius: 50%;\n",
              "    cursor: pointer;\n",
              "    display: none;\n",
              "    fill: #1967D2;\n",
              "    height: 32px;\n",
              "    padding: 0 0 0 0;\n",
              "    width: 32px;\n",
              "  }\n",
              "\n",
              "  .colab-df-quickchart:hover {\n",
              "    background-color: #E2EBFA;\n",
              "    box-shadow: 0px 1px 2px rgba(60, 64, 67, 0.3), 0px 1px 3px 1px rgba(60, 64, 67, 0.15);\n",
              "    fill: #174EA6;\n",
              "  }\n",
              "\n",
              "  [theme=dark] .colab-df-quickchart {\n",
              "    background-color: #3B4455;\n",
              "    fill: #D2E3FC;\n",
              "  }\n",
              "\n",
              "  [theme=dark] .colab-df-quickchart:hover {\n",
              "    background-color: #434B5C;\n",
              "    box-shadow: 0px 1px 3px 1px rgba(0, 0, 0, 0.15);\n",
              "    filter: drop-shadow(0px 1px 2px rgba(0, 0, 0, 0.3));\n",
              "    fill: #FFFFFF;\n",
              "  }\n",
              "</style>\n",
              "\n",
              "    <script>\n",
              "      async function quickchart(key) {\n",
              "        const containerElement = document.querySelector('#' + key);\n",
              "        const charts = await google.colab.kernel.invokeFunction(\n",
              "            'suggestCharts', [key], {});\n",
              "      }\n",
              "    </script>\n",
              "\n",
              "      <script>\n",
              "\n",
              "function displayQuickchartButton(domScope) {\n",
              "  let quickchartButtonEl =\n",
              "    domScope.querySelector('#df-76906b2d-b0cb-4b33-a100-a9cecf5297fb button.colab-df-quickchart');\n",
              "  quickchartButtonEl.style.display =\n",
              "    google.colab.kernel.accessAllowed ? 'block' : 'none';\n",
              "}\n",
              "\n",
              "        displayQuickchartButton(document);\n",
              "      </script>\n",
              "      <style>\n",
              "    .colab-df-container {\n",
              "      display:flex;\n",
              "      flex-wrap:wrap;\n",
              "      gap: 12px;\n",
              "    }\n",
              "\n",
              "    .colab-df-convert {\n",
              "      background-color: #E8F0FE;\n",
              "      border: none;\n",
              "      border-radius: 50%;\n",
              "      cursor: pointer;\n",
              "      display: none;\n",
              "      fill: #1967D2;\n",
              "      height: 32px;\n",
              "      padding: 0 0 0 0;\n",
              "      width: 32px;\n",
              "    }\n",
              "\n",
              "    .colab-df-convert:hover {\n",
              "      background-color: #E2EBFA;\n",
              "      box-shadow: 0px 1px 2px rgba(60, 64, 67, 0.3), 0px 1px 3px 1px rgba(60, 64, 67, 0.15);\n",
              "      fill: #174EA6;\n",
              "    }\n",
              "\n",
              "    [theme=dark] .colab-df-convert {\n",
              "      background-color: #3B4455;\n",
              "      fill: #D2E3FC;\n",
              "    }\n",
              "\n",
              "    [theme=dark] .colab-df-convert:hover {\n",
              "      background-color: #434B5C;\n",
              "      box-shadow: 0px 1px 3px 1px rgba(0, 0, 0, 0.15);\n",
              "      filter: drop-shadow(0px 1px 2px rgba(0, 0, 0, 0.3));\n",
              "      fill: #FFFFFF;\n",
              "    }\n",
              "  </style>\n",
              "\n",
              "      <script>\n",
              "        const buttonEl =\n",
              "          document.querySelector('#df-573deed3-7480-4dcf-bcad-a45516619545 button.colab-df-convert');\n",
              "        buttonEl.style.display =\n",
              "          google.colab.kernel.accessAllowed ? 'block' : 'none';\n",
              "\n",
              "        async function convertToInteractive(key) {\n",
              "          const element = document.querySelector('#df-573deed3-7480-4dcf-bcad-a45516619545');\n",
              "          const dataTable =\n",
              "            await google.colab.kernel.invokeFunction('convertToInteractive',\n",
              "                                                     [key], {});\n",
              "          if (!dataTable) return;\n",
              "\n",
              "          const docLinkHtml = 'Like what you see? Visit the ' +\n",
              "            '<a target=\"_blank\" href=https://colab.research.google.com/notebooks/data_table.ipynb>data table notebook</a>'\n",
              "            + ' to learn more about interactive tables.';\n",
              "          element.innerHTML = '';\n",
              "          dataTable['output_type'] = 'display_data';\n",
              "          await google.colab.output.renderOutput(dataTable, element);\n",
              "          const docLink = document.createElement('div');\n",
              "          docLink.innerHTML = docLinkHtml;\n",
              "          element.appendChild(docLink);\n",
              "        }\n",
              "      </script>\n",
              "    </div>\n",
              "  </div>\n"
            ]
          },
          "metadata": {},
          "execution_count": 53
        }
      ]
    },
    {
      "cell_type": "code",
      "source": [
        "'1876977'\tin edf_lsa[\"doc_id\"].to_list()"
      ],
      "metadata": {
        "id": "lF4O3xqH9Qqv",
        "outputId": "0d022951-2910-4c93-b4a6-9e94b7c02551",
        "colab": {
          "base_uri": "https://localhost:8080/"
        }
      },
      "execution_count": 58,
      "outputs": [
        {
          "output_type": "execute_result",
          "data": {
            "text/plain": [
              "True"
            ]
          },
          "metadata": {},
          "execution_count": 58
        }
      ]
    },
    {
      "cell_type": "code",
      "source": [
        "docus=docus[docus['doc_id'].isin(edf_lsa[\"doc_id\"].to_list())]\n",
        "docus"
      ],
      "metadata": {
        "id": "vcg73sAgORYW",
        "outputId": "1d9af2f6-f76b-4056-d34b-368551463558",
        "colab": {
          "base_uri": "https://localhost:8080/",
          "height": 112
        }
      },
      "execution_count": 63,
      "outputs": [
        {
          "output_type": "execute_result",
          "data": {
            "text/plain": [
              "    doc_id                                              Texto  clase\n",
              "2  1896519  puente libertad ponte della libertà italiano p...      0\n",
              "4  1876977  dimensión latina internacional octavo álbum ag...      0"
            ],
            "text/html": [
              "\n",
              "\n",
              "  <div id=\"df-001e929d-9df1-4a6f-b40e-f12d29f512b5\">\n",
              "    <div class=\"colab-df-container\">\n",
              "      <div>\n",
              "<style scoped>\n",
              "    .dataframe tbody tr th:only-of-type {\n",
              "        vertical-align: middle;\n",
              "    }\n",
              "\n",
              "    .dataframe tbody tr th {\n",
              "        vertical-align: top;\n",
              "    }\n",
              "\n",
              "    .dataframe thead th {\n",
              "        text-align: right;\n",
              "    }\n",
              "</style>\n",
              "<table border=\"1\" class=\"dataframe\">\n",
              "  <thead>\n",
              "    <tr style=\"text-align: right;\">\n",
              "      <th></th>\n",
              "      <th>doc_id</th>\n",
              "      <th>Texto</th>\n",
              "      <th>clase</th>\n",
              "    </tr>\n",
              "  </thead>\n",
              "  <tbody>\n",
              "    <tr>\n",
              "      <th>2</th>\n",
              "      <td>1896519</td>\n",
              "      <td>puente libertad ponte della libertà italiano p...</td>\n",
              "      <td>0</td>\n",
              "    </tr>\n",
              "    <tr>\n",
              "      <th>4</th>\n",
              "      <td>1876977</td>\n",
              "      <td>dimensión latina internacional octavo álbum ag...</td>\n",
              "      <td>0</td>\n",
              "    </tr>\n",
              "  </tbody>\n",
              "</table>\n",
              "</div>\n",
              "      <button class=\"colab-df-convert\" onclick=\"convertToInteractive('df-001e929d-9df1-4a6f-b40e-f12d29f512b5')\"\n",
              "              title=\"Convert this dataframe to an interactive table.\"\n",
              "              style=\"display:none;\">\n",
              "\n",
              "  <svg xmlns=\"http://www.w3.org/2000/svg\" height=\"24px\"viewBox=\"0 0 24 24\"\n",
              "       width=\"24px\">\n",
              "    <path d=\"M0 0h24v24H0V0z\" fill=\"none\"/>\n",
              "    <path d=\"M18.56 5.44l.94 2.06.94-2.06 2.06-.94-2.06-.94-.94-2.06-.94 2.06-2.06.94zm-11 1L8.5 8.5l.94-2.06 2.06-.94-2.06-.94L8.5 2.5l-.94 2.06-2.06.94zm10 10l.94 2.06.94-2.06 2.06-.94-2.06-.94-.94-2.06-.94 2.06-2.06.94z\"/><path d=\"M17.41 7.96l-1.37-1.37c-.4-.4-.92-.59-1.43-.59-.52 0-1.04.2-1.43.59L10.3 9.45l-7.72 7.72c-.78.78-.78 2.05 0 2.83L4 21.41c.39.39.9.59 1.41.59.51 0 1.02-.2 1.41-.59l7.78-7.78 2.81-2.81c.8-.78.8-2.07 0-2.86zM5.41 20L4 18.59l7.72-7.72 1.47 1.35L5.41 20z\"/>\n",
              "  </svg>\n",
              "      </button>\n",
              "\n",
              "\n",
              "\n",
              "    <div id=\"df-a5722f13-a7b9-4b80-9a5b-b99a9e506af7\">\n",
              "      <button class=\"colab-df-quickchart\" onclick=\"quickchart('df-a5722f13-a7b9-4b80-9a5b-b99a9e506af7')\"\n",
              "              title=\"Suggest charts.\"\n",
              "              style=\"display:none;\">\n",
              "\n",
              "<svg xmlns=\"http://www.w3.org/2000/svg\" height=\"24px\"viewBox=\"0 0 24 24\"\n",
              "     width=\"24px\">\n",
              "    <g>\n",
              "        <path d=\"M19 3H5c-1.1 0-2 .9-2 2v14c0 1.1.9 2 2 2h14c1.1 0 2-.9 2-2V5c0-1.1-.9-2-2-2zM9 17H7v-7h2v7zm4 0h-2V7h2v10zm4 0h-2v-4h2v4z\"/>\n",
              "    </g>\n",
              "</svg>\n",
              "      </button>\n",
              "    </div>\n",
              "\n",
              "<style>\n",
              "  .colab-df-quickchart {\n",
              "    background-color: #E8F0FE;\n",
              "    border: none;\n",
              "    border-radius: 50%;\n",
              "    cursor: pointer;\n",
              "    display: none;\n",
              "    fill: #1967D2;\n",
              "    height: 32px;\n",
              "    padding: 0 0 0 0;\n",
              "    width: 32px;\n",
              "  }\n",
              "\n",
              "  .colab-df-quickchart:hover {\n",
              "    background-color: #E2EBFA;\n",
              "    box-shadow: 0px 1px 2px rgba(60, 64, 67, 0.3), 0px 1px 3px 1px rgba(60, 64, 67, 0.15);\n",
              "    fill: #174EA6;\n",
              "  }\n",
              "\n",
              "  [theme=dark] .colab-df-quickchart {\n",
              "    background-color: #3B4455;\n",
              "    fill: #D2E3FC;\n",
              "  }\n",
              "\n",
              "  [theme=dark] .colab-df-quickchart:hover {\n",
              "    background-color: #434B5C;\n",
              "    box-shadow: 0px 1px 3px 1px rgba(0, 0, 0, 0.15);\n",
              "    filter: drop-shadow(0px 1px 2px rgba(0, 0, 0, 0.3));\n",
              "    fill: #FFFFFF;\n",
              "  }\n",
              "</style>\n",
              "\n",
              "    <script>\n",
              "      async function quickchart(key) {\n",
              "        const containerElement = document.querySelector('#' + key);\n",
              "        const charts = await google.colab.kernel.invokeFunction(\n",
              "            'suggestCharts', [key], {});\n",
              "      }\n",
              "    </script>\n",
              "\n",
              "      <script>\n",
              "\n",
              "function displayQuickchartButton(domScope) {\n",
              "  let quickchartButtonEl =\n",
              "    domScope.querySelector('#df-a5722f13-a7b9-4b80-9a5b-b99a9e506af7 button.colab-df-quickchart');\n",
              "  quickchartButtonEl.style.display =\n",
              "    google.colab.kernel.accessAllowed ? 'block' : 'none';\n",
              "}\n",
              "\n",
              "        displayQuickchartButton(document);\n",
              "      </script>\n",
              "      <style>\n",
              "    .colab-df-container {\n",
              "      display:flex;\n",
              "      flex-wrap:wrap;\n",
              "      gap: 12px;\n",
              "    }\n",
              "\n",
              "    .colab-df-convert {\n",
              "      background-color: #E8F0FE;\n",
              "      border: none;\n",
              "      border-radius: 50%;\n",
              "      cursor: pointer;\n",
              "      display: none;\n",
              "      fill: #1967D2;\n",
              "      height: 32px;\n",
              "      padding: 0 0 0 0;\n",
              "      width: 32px;\n",
              "    }\n",
              "\n",
              "    .colab-df-convert:hover {\n",
              "      background-color: #E2EBFA;\n",
              "      box-shadow: 0px 1px 2px rgba(60, 64, 67, 0.3), 0px 1px 3px 1px rgba(60, 64, 67, 0.15);\n",
              "      fill: #174EA6;\n",
              "    }\n",
              "\n",
              "    [theme=dark] .colab-df-convert {\n",
              "      background-color: #3B4455;\n",
              "      fill: #D2E3FC;\n",
              "    }\n",
              "\n",
              "    [theme=dark] .colab-df-convert:hover {\n",
              "      background-color: #434B5C;\n",
              "      box-shadow: 0px 1px 3px 1px rgba(0, 0, 0, 0.15);\n",
              "      filter: drop-shadow(0px 1px 2px rgba(0, 0, 0, 0.3));\n",
              "      fill: #FFFFFF;\n",
              "    }\n",
              "  </style>\n",
              "\n",
              "      <script>\n",
              "        const buttonEl =\n",
              "          document.querySelector('#df-001e929d-9df1-4a6f-b40e-f12d29f512b5 button.colab-df-convert');\n",
              "        buttonEl.style.display =\n",
              "          google.colab.kernel.accessAllowed ? 'block' : 'none';\n",
              "\n",
              "        async function convertToInteractive(key) {\n",
              "          const element = document.querySelector('#df-001e929d-9df1-4a6f-b40e-f12d29f512b5');\n",
              "          const dataTable =\n",
              "            await google.colab.kernel.invokeFunction('convertToInteractive',\n",
              "                                                     [key], {});\n",
              "          if (!dataTable) return;\n",
              "\n",
              "          const docLinkHtml = 'Like what you see? Visit the ' +\n",
              "            '<a target=\"_blank\" href=https://colab.research.google.com/notebooks/data_table.ipynb>data table notebook</a>'\n",
              "            + ' to learn more about interactive tables.';\n",
              "          element.innerHTML = '';\n",
              "          dataTable['output_type'] = 'display_data';\n",
              "          await google.colab.output.renderOutput(dataTable, element);\n",
              "          const docLink = document.createElement('div');\n",
              "          docLink.innerHTML = docLinkHtml;\n",
              "          element.appendChild(docLink);\n",
              "        }\n",
              "      </script>\n",
              "    </div>\n",
              "  </div>\n"
            ]
          },
          "metadata": {},
          "execution_count": 63
        }
      ]
    },
    {
      "cell_type": "code",
      "execution_count": 64,
      "metadata": {
        "id": "UlanJ7cGuXL0"
      },
      "outputs": [],
      "source": [
        "k=1\n",
        "vecinos_lsa=wi.k_vecinos_mas_cercanos(docus,edf_lsa,k)"
      ]
    },
    {
      "cell_type": "code",
      "execution_count": 66,
      "metadata": {
        "id": "TqcF0oXGuXL0",
        "outputId": "fc693e18-9b36-4626-b0af-34ae9f500f5a",
        "colab": {
          "base_uri": "https://localhost:8080/"
        }
      },
      "outputs": [
        {
          "output_type": "stream",
          "name": "stdout",
          "text": [
            "[['1887079', 0.20880958140434677]]\n"
          ]
        }
      ],
      "source": [
        "print(vecinos_lsa['1896519'])"
      ]
    },
    {
      "cell_type": "code",
      "execution_count": 68,
      "metadata": {
        "id": "6FpsxW07uXL0",
        "outputId": "0d8892d9-875a-4dde-bf18-f1daf2dc1db7",
        "colab": {
          "base_uri": "https://localhost:8080/"
        }
      },
      "outputs": [
        {
          "output_type": "stream",
          "name": "stdout",
          "text": [
            "puente libertad ponte della libertà italiano puente carretero une ciudad venecia piazzale roma continente diseñado ingeniero eugenio miozzi inaugurado benito mussolini abril bajo nombre puente littorio única vía acceso circulación vehículos capital región véneto puente construido casi toda longitud junto antiguo puente ferroviario construido reino lombardovéneto final segunda guerra mundial rebaut\n",
            "dimensión latina internacional octavo álbum agrupación venezolana dimensión latina editado disquera top hits formato larga duración vinilo rpm primer disco agrupación cantante bajista original oscar dleón separó iniciar carrera solista dleón sustituido argenis carruyo voces gustavo carmona bajo mientras producción recayó manos césar monge canciones lado mires así canta wladimir reir cantar canta a\n"
          ]
        }
      ],
      "source": [
        "test1=df[df['doc_id']=='1896519'].Texto.values[0][:400]\n",
        "test2=df[df['doc_id']=='1876977'].Texto.values[0][:400]\n",
        "print(test1)\n",
        "print(test2)"
      ]
    },
    {
      "cell_type": "code",
      "execution_count": 70,
      "metadata": {
        "id": "tgxcDVHluXL1",
        "outputId": "bf6d5eef-3e55-4287-c3d5-71c5c26fb6b7",
        "colab": {
          "base_uri": "https://localhost:8080/"
        }
      },
      "outputs": [
        {
          "output_type": "stream",
          "name": "stdout",
          "text": [
            "[['1876944', 0.3030352710865919]]\n"
          ]
        }
      ],
      "source": [
        "print(vecinos_lsa['1876977'])"
      ]
    },
    {
      "cell_type": "markdown",
      "metadata": {
        "id": "Cb5lYjBXuXL2"
      },
      "source": [
        "**Referencias** <br>\n",
        "\n",
        "Yoshua Bengio, Réjean Ducharme, Pascal Vincent, and Christian Janvin. 2003. A neural probabilistic language model. J. Mach. Learn. Res. 3 (March 2003), 1137-1155.\n",
        "\n",
        "Tomas Mikolov, Ilya Sutskever, Kai Chen, Greg Corrado, and Jeffrey Dean. 2013. Distributed representations of words and phrases and their compositionality. In _Proceedings of the 26th International Conference on Neural Information Processing Systems - Volume 2 (NIPS'13)_, C. J. C. Burges, L. Bottou, M. Welling, Z. Ghahramani, and K. Q. Weinberger (Eds.), Vol. 2. Curran Associates Inc., USA, 3111-3119.\n",
        "\n",
        "Xin Rong. 2014. Word2vec Parameter Learning Explained.arXiv 1411.2738. disponible en linea {http://arxiv.org/abs/1411.2738}"
      ]
    }
  ],
  "metadata": {
    "kernelspec": {
      "display_name": "Python 3 (ipykernel)",
      "language": "python",
      "name": "python3"
    },
    "language_info": {
      "codemirror_mode": {
        "name": "ipython",
        "version": 3
      },
      "file_extension": ".py",
      "mimetype": "text/x-python",
      "name": "python",
      "nbconvert_exporter": "python",
      "pygments_lexer": "ipython3",
      "version": "3.11.4"
    },
    "colab": {
      "provenance": []
    }
  },
  "nbformat": 4,
  "nbformat_minor": 0
}